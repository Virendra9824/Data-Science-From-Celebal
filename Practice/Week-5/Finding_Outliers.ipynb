{
 "cells": [
  {
   "cell_type": "code",
   "execution_count": 31,
   "id": "907d5014",
   "metadata": {},
   "outputs": [],
   "source": [
    "import numpy as np\n",
    "import seaborn as sns\n",
    "import matplotlib.pyplot as plt\n",
    "%matplotlib inline  \n",
    "#%matplotlib inline is used because after this we don't have to write plt.show command to visualize the graph."
   ]
  },
  {
   "cell_type": "code",
   "execution_count": null,
   "id": "fd92147c",
   "metadata": {},
   "outputs": [],
   "source": []
  },
  {
   "cell_type": "code",
   "execution_count": 13,
   "id": "08e05ddb",
   "metadata": {},
   "outputs": [
    {
     "data": {
      "text/plain": [
       "array([12, 10, 10, 15, 10, 13, 11, 18, 11, 16, 13, 14, 11, 16, 12, 12, 12,\n",
       "       16, 16, 16, 13, 12, 17, 11, 13, 11, 18, 13, 10, 19, 15, 13, 11, 11,\n",
       "       15, 12, 11, 18, 18, 18, 14, 17, 11, 14, 10, 11, 12, 16, 11, 17])"
      ]
     },
     "execution_count": 13,
     "metadata": {},
     "output_type": "execute_result"
    }
   ],
   "source": [
    "dataset = np.random.randint(10,20, 50)\n",
    "dataset"
   ]
  },
  {
   "cell_type": "code",
   "execution_count": 20,
   "id": "43238f11",
   "metadata": {},
   "outputs": [],
   "source": [
    "dataset[1]=115\n",
    "dataset[12]=108\n",
    "dataset[45]=125"
   ]
  },
  {
   "cell_type": "code",
   "execution_count": null,
   "id": "a112a18a",
   "metadata": {},
   "outputs": [],
   "source": []
  },
  {
   "cell_type": "code",
   "execution_count": 18,
   "id": "d959b410",
   "metadata": {},
   "outputs": [
    {
     "data": {
      "text/plain": [
       "array([ 12, 115,  10,  15,  10,  13,  11,  18,  11,  16,  13,  14,  99,\n",
       "        16,  12,  12,  12,  16,  16,  16,  13,  12,  17,  11,  13,  11,\n",
       "        18,  13,  10,  19,  15,  13,  11,  11,  15,  12,  11,  18,  18,\n",
       "        18,  14,  17,  11,  14,  10, 125,  12,  16,  11,  17])"
      ]
     },
     "execution_count": 18,
     "metadata": {},
     "output_type": "execute_result"
    }
   ],
   "source": [
    "dataset"
   ]
  },
  {
   "cell_type": "code",
   "execution_count": null,
   "id": "9df138d6",
   "metadata": {},
   "outputs": [],
   "source": []
  },
  {
   "cell_type": "code",
   "execution_count": null,
   "id": "2f0f40d4",
   "metadata": {},
   "outputs": [],
   "source": []
  },
  {
   "cell_type": "code",
   "execution_count": 21,
   "id": "bcbcceed",
   "metadata": {},
   "outputs": [
    {
     "data": {
      "text/plain": [
       "(array([47.,  0.,  0.,  0.,  0.,  0.,  0.,  0.,  1.,  2.]),\n",
       " array([ 10. ,  21.5,  33. ,  44.5,  56. ,  67.5,  79. ,  90.5, 102. ,\n",
       "        113.5, 125. ]),\n",
       " <BarContainer object of 10 artists>)"
      ]
     },
     "execution_count": 21,
     "metadata": {},
     "output_type": "execute_result"
    },
    {
     "data": {
      "image/png": "[encoded data removed]",
      "text/plain": [
       "<Figure size 640x480 with 1 Axes>"
      ]
     },
     "metadata": {},
     "output_type": "display_data"
    }
   ],
   "source": [
    "plt.hist(dataset)"
   ]
  },
  {
   "cell_type": "code",
   "execution_count": null,
   "id": "be26501c",
   "metadata": {},
   "outputs": [],
   "source": []
  },
  {
   "cell_type": "code",
   "execution_count": null,
   "id": "a12ea51e",
   "metadata": {},
   "outputs": [],
   "source": []
  },
  {
   "cell_type": "markdown",
   "id": "e769ca25",
   "metadata": {},
   "source": [
    "## Z-Score"
   ]
  },
  {
   "cell_type": "code",
   "execution_count": null,
   "id": "5c1784a7",
   "metadata": {},
   "outputs": [],
   "source": [
    "# Z-Score = (xi-mean)/s.d\n",
    "# Give the data which are far away from the theshold sd"
   ]
  },
  {
   "cell_type": "code",
   "execution_count": 23,
   "id": "19bb133c",
   "metadata": {},
   "outputs": [],
   "source": [
    "outliers=[]\n",
    "def detect_outliers(data):\n",
    "    threshold = 3 # 3rd S.D\n",
    "    mean = np.mean(data)\n",
    "    std = np.std(data)\n",
    "    \n",
    "    # Now we will find for each data-point that it lies in which s.d., if it lies far than the 3rd S.D. then it is outlier\n",
    "    \n",
    "    for i in data:\n",
    "        z_score = (i-mean)/std\n",
    "        if np.abs(z_score)>threshold:\n",
    "            outliers.append(i)\n",
    "            \n",
    "    return outliers"
   ]
  },
  {
   "cell_type": "code",
   "execution_count": null,
   "id": "97a6bc00",
   "metadata": {},
   "outputs": [],
   "source": []
  },
  {
   "cell_type": "code",
   "execution_count": 24,
   "id": "5b369b26",
   "metadata": {},
   "outputs": [
    {
     "data": {
      "text/plain": [
       "[115, 108, 125]"
      ]
     },
     "execution_count": 24,
     "metadata": {},
     "output_type": "execute_result"
    }
   ],
   "source": [
    "detect_outliers(dataset)"
   ]
  },
  {
   "cell_type": "code",
   "execution_count": null,
   "id": "a7c1849a",
   "metadata": {},
   "outputs": [],
   "source": []
  },
  {
   "cell_type": "code",
   "execution_count": null,
   "id": "46ee6ea7",
   "metadata": {},
   "outputs": [],
   "source": []
  },
  {
   "cell_type": "markdown",
   "id": "530be447",
   "metadata": {},
   "source": [
    "## IQR"
   ]
  },
  {
   "cell_type": "markdown",
   "id": "f81ba134",
   "metadata": {},
   "source": [
    "1) Sort the Data\n",
    "2) Find Q1 and Q3\n",
    "3) Find IQR = Q3-Q1\n",
    "4) Find Lower Whisker and Upper Whisker\n",
    "5) Find Outliers"
   ]
  },
  {
   "cell_type": "code",
   "execution_count": 40,
   "id": "46a6b48e",
   "metadata": {},
   "outputs": [],
   "source": [
    "def boxplot(data):\n",
    "    data = sorted(data)\n",
    "    q1,q3 = np.percentile(data, [25, 75])\n",
    "    iqr = q3-q1\n",
    "    lowerWhisker = q1-1.5*iqr\n",
    "    upperWhisker = q3+1.5*iqr\n",
    "    print(f\"q1: {q1}.\\nq3: {q3}.\\nIQR: {iqr}.\\nLowerWhisker: {lowerWhisker}.\\nUpperWhisker: {upperWhisker}.\\n\")\n",
    "    sns.boxplot(data)"
   ]
  },
  {
   "cell_type": "code",
   "execution_count": 41,
   "id": "21132c9e",
   "metadata": {},
   "outputs": [
    {
     "name": "stdout",
     "output_type": "stream",
     "text": [
      "q1: 11.25.\n",
      "q3: 16.0.\n",
      "IQR: 4.75.\n",
      "LowerWhisker: 4.125.\n",
      "UpperWhisker: 23.125.\n",
      "\n"
     ]
    },
    {
     "data": {
      "image/png": "[encoded data removed]",
      "text/plain": [
       "<Figure size 640x480 with 1 Axes>"
      ]
     },
     "metadata": {},
     "output_type": "display_data"
    }
   ],
   "source": [
    "boxplot(dataset)\n"
   ]
  },
  {
   "cell_type": "code",
   "execution_count": null,
   "id": "398070be",
   "metadata": {},
   "outputs": [],
   "source": []
  }
 ],
 "metadata": {
  "kernelspec": {
   "display_name": "Python 3 (ipykernel)",
   "language": "python",
   "name": "python3"
  },
  "language_info": {
   "codemirror_mode": {
    "name": "ipython",
    "version": 3
   },
   "file_extension": ".py",
   "mimetype": "text/x-python",
   "name": "python",
   "nbconvert_exporter": "python",
   "pygments_lexer": "ipython3",
   "version": "3.11.2"
  }
 },
 "nbformat": 4,
 "nbformat_minor": 5
}
