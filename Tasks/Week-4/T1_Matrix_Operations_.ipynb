{
 "cells": [
  {
   "cell_type": "code",
   "execution_count": 1,
   "id": "3a7f8252",
   "metadata": {},
   "outputs": [],
   "source": [
    "import numpy as np"
   ]
  },
  {
   "cell_type": "code",
   "execution_count": null,
   "id": "2a167a96",
   "metadata": {},
   "outputs": [],
   "source": []
  },
  {
   "cell_type": "markdown",
   "id": "fe0c9f05",
   "metadata": {},
   "source": [
    "### Defining Matrices"
   ]
  },
  {
   "cell_type": "code",
   "execution_count": 35,
   "id": "f6d44377",
   "metadata": {},
   "outputs": [
    {
     "name": "stdout",
     "output_type": "stream",
     "text": [
      "Matrix A is: \n",
      " [[3 4 2]\n",
      " [8 3 5]\n",
      " [6 6 7]]\n",
      "\n",
      "\n",
      "Matrix B is: \n",
      " [[4 9 1]\n",
      " [1 5 2]\n",
      " [7 5 9]]\n"
     ]
    }
   ],
   "source": [
    "a = np.array([[3,4,2],\n",
    "             [8,3,5],\n",
    "             [6,6,7]])\n",
    "\n",
    "\n",
    "b = np.random.randint(1,10, size=(3,3))\n",
    "\n",
    "print(\"Matrix A is: \\n\", a)\n",
    "print(\"\\n\\nMatrix B is: \\n\", b)"
   ]
  },
  {
   "cell_type": "code",
   "execution_count": null,
   "id": "3074c944",
   "metadata": {},
   "outputs": [],
   "source": []
  },
  {
   "cell_type": "code",
   "execution_count": null,
   "id": "231035fd",
   "metadata": {},
   "outputs": [],
   "source": []
  },
  {
   "cell_type": "markdown",
   "id": "615964cb",
   "metadata": {},
   "source": [
    "### Matrix Multiplication"
   ]
  },
  {
   "cell_type": "code",
   "execution_count": 36,
   "id": "e1ba01c3",
   "metadata": {},
   "outputs": [
    {
     "name": "stdout",
     "output_type": "stream",
     "text": [
      "The Matrix Mutliplication of matrix A and B is: \n",
      " [[ 30  57  29]\n",
      " [ 70 112  59]\n",
      " [ 79 119  81]]\n"
     ]
    }
   ],
   "source": [
    "c = np.matmul(a,b)\n",
    "print(\"The Matrix Mutliplication of matrix A and B is: \\n\", c)"
   ]
  },
  {
   "cell_type": "code",
   "execution_count": null,
   "id": "3874a548",
   "metadata": {},
   "outputs": [],
   "source": []
  },
  {
   "cell_type": "code",
   "execution_count": null,
   "id": "ce709eaa",
   "metadata": {},
   "outputs": [],
   "source": []
  },
  {
   "cell_type": "markdown",
   "id": "f7ccfa22",
   "metadata": {},
   "source": [
    "### Matrix Transpose"
   ]
  },
  {
   "cell_type": "code",
   "execution_count": 37,
   "id": "f9c1e5eb",
   "metadata": {},
   "outputs": [
    {
     "name": "stdout",
     "output_type": "stream",
     "text": [
      "Matrix A:\n",
      " [[3 4 2]\n",
      " [8 3 5]\n",
      " [6 6 7]]\n",
      "\n",
      "Transpose of A: \n",
      " [[3 8 6]\n",
      " [4 3 6]\n",
      " [2 5 7]]\n"
     ]
    }
   ],
   "source": [
    "t = np.transpose(a)\n",
    "print(\"Matrix A:\\n\", a)\n",
    "print(\"\\nTranspose of A: \\n\", t)"
   ]
  },
  {
   "cell_type": "code",
   "execution_count": null,
   "id": "4586672a",
   "metadata": {},
   "outputs": [],
   "source": []
  },
  {
   "cell_type": "code",
   "execution_count": null,
   "id": "57123a4f",
   "metadata": {},
   "outputs": [],
   "source": []
  },
  {
   "cell_type": "markdown",
   "id": "0ad39a91",
   "metadata": {},
   "source": [
    "### Matrix Determinant"
   ]
  },
  {
   "cell_type": "code",
   "execution_count": 38,
   "id": "0c90711b",
   "metadata": {},
   "outputs": [
    {
     "name": "stdout",
     "output_type": "stream",
     "text": [
      "Matrix A:\n",
      " [[3 4 2]\n",
      " [8 3 5]\n",
      " [6 6 7]]\n",
      "\n",
      "Determinant of A is:  -71\n"
     ]
    }
   ],
   "source": [
    "d = np.linalg.det(a)\n",
    "print(\"Matrix A:\\n\", a)\n",
    "print(\"\\nDeterminant of A is: \", round(d))"
   ]
  },
  {
   "cell_type": "code",
   "execution_count": null,
   "id": "0689258b",
   "metadata": {},
   "outputs": [],
   "source": []
  },
  {
   "cell_type": "code",
   "execution_count": null,
   "id": "3e858b62",
   "metadata": {},
   "outputs": [],
   "source": []
  },
  {
   "cell_type": "markdown",
   "id": "516ce59e",
   "metadata": {},
   "source": [
    "### Eigen Vectors"
   ]
  },
  {
   "cell_type": "code",
   "execution_count": 39,
   "id": "e2c50b1f",
   "metadata": {},
   "outputs": [
    {
     "name": "stdout",
     "output_type": "stream",
     "text": [
      "Eigne values are: \n",
      " [14.26352157  1.68704377 -2.95056534]\n",
      "\n",
      "Eigen Vectors are: \n",
      " [[-0.34 -0.48  0.5 ]\n",
      " [-0.57 -0.26 -0.84]\n",
      " [-0.75  0.84  0.21]]\n"
     ]
    }
   ],
   "source": [
    "eigen = np.linalg.eig(a)\n",
    "\n",
    "print(\"Eigne values are: \\n\", eigen[0])\n",
    "\n",
    "eVec = eigen[1]\n",
    "rounded_eVec = np.round(eVec, decimals=2)\n",
    "print(\"\\nEigen Vectors are: \\n\", rounded_eVec)"
   ]
  },
  {
   "cell_type": "code",
   "execution_count": null,
   "id": "7e21da28",
   "metadata": {},
   "outputs": [],
   "source": []
  }
 ],
 "metadata": {
  "kernelspec": {
   "display_name": "Python 3 (ipykernel)",
   "language": "python",
   "name": "python3"
  },
  "language_info": {
   "codemirror_mode": {
    "name": "ipython",
    "version": 3
   },
   "file_extension": ".py",
   "mimetype": "text/x-python",
   "name": "python",
   "nbconvert_exporter": "python",
   "pygments_lexer": "ipython3",
   "version": "3.11.2"
  }
 },
 "nbformat": 4,
 "nbformat_minor": 5
}
