{
 "cells": [
  {
   "cell_type": "code",
   "execution_count": 1,
   "id": "88558aa9",
   "metadata": {},
   "outputs": [],
   "source": [
    "import numpy as np\n",
    "import pandas as pd"
   ]
  },
  {
   "cell_type": "code",
   "execution_count": null,
   "id": "0627a275",
   "metadata": {},
   "outputs": [],
   "source": []
  },
  {
   "cell_type": "markdown",
   "id": "a65c6aac",
   "metadata": {},
   "source": [
    "### Representing Dataset into pandas DataFrame"
   ]
  },
  {
   "cell_type": "code",
   "execution_count": 5,
   "id": "64eb4826",
   "metadata": {},
   "outputs": [
    {
     "data": {
      "text/html": [
       "<div>\n",
       "<style scoped>\n",
       "    .dataframe tbody tr th:only-of-type {\n",
       "        vertical-align: middle;\n",
       "    }\n",
       "\n",
       "    .dataframe tbody tr th {\n",
       "        vertical-align: top;\n",
       "    }\n",
       "\n",
       "    .dataframe thead th {\n",
       "        text-align: right;\n",
       "    }\n",
       "</style>\n",
       "<table border=\"1\" class=\"dataframe\">\n",
       "  <thead>\n",
       "    <tr style=\"text-align: right;\">\n",
       "      <th></th>\n",
       "      <th>Female</th>\n",
       "      <th>Male</th>\n",
       "    </tr>\n",
       "    <tr>\n",
       "      <th>Sport</th>\n",
       "      <th></th>\n",
       "      <th></th>\n",
       "    </tr>\n",
       "  </thead>\n",
       "  <tbody>\n",
       "    <tr>\n",
       "      <th>Baseball</th>\n",
       "      <td>34</td>\n",
       "      <td>34</td>\n",
       "    </tr>\n",
       "    <tr>\n",
       "      <th>Basketball</th>\n",
       "      <td>52</td>\n",
       "      <td>40</td>\n",
       "    </tr>\n",
       "    <tr>\n",
       "      <th>Football</th>\n",
       "      <td>20</td>\n",
       "      <td>58</td>\n",
       "    </tr>\n",
       "    <tr>\n",
       "      <th>Soccer</th>\n",
       "      <td>44</td>\n",
       "      <td>18</td>\n",
       "    </tr>\n",
       "  </tbody>\n",
       "</table>\n",
       "</div>"
      ],
      "text/plain": [
       "            Female  Male\n",
       "Sport                   \n",
       "Baseball        34    34\n",
       "Basketball      52    40\n",
       "Football        20    58\n",
       "Soccer          44    18"
      ]
     },
     "execution_count": 5,
     "metadata": {},
     "output_type": "execute_result"
    }
   ],
   "source": [
    "data = {\n",
    "    'Sport' : ['Baseball', 'Basketball', 'Football', 'Soccer'],\n",
    "    'Female': [34, 52, 20, 44],\n",
    "    'Male': [34, 40, 58, 18]\n",
    "}\n",
    "\n",
    "df = pd.DataFrame(data)\n",
    "df.set_index('Sport', inplace=True)\n",
    "df"
   ]
  },
  {
   "cell_type": "code",
   "execution_count": null,
   "id": "27849ea5",
   "metadata": {},
   "outputs": [],
   "source": []
  },
  {
   "cell_type": "code",
   "execution_count": null,
   "id": "c7ecaf5a",
   "metadata": {},
   "outputs": [],
   "source": []
  },
  {
   "cell_type": "markdown",
   "id": "98bc3a49",
   "metadata": {},
   "source": [
    "### Calculating total counts"
   ]
  },
  {
   "cell_type": "code",
   "execution_count": 9,
   "id": "eec63ed3",
   "metadata": {},
   "outputs": [
    {
     "data": {
      "text/html": [
       "<div>\n",
       "<style scoped>\n",
       "    .dataframe tbody tr th:only-of-type {\n",
       "        vertical-align: middle;\n",
       "    }\n",
       "\n",
       "    .dataframe tbody tr th {\n",
       "        vertical-align: top;\n",
       "    }\n",
       "\n",
       "    .dataframe thead th {\n",
       "        text-align: right;\n",
       "    }\n",
       "</style>\n",
       "<table border=\"1\" class=\"dataframe\">\n",
       "  <thead>\n",
       "    <tr style=\"text-align: right;\">\n",
       "      <th></th>\n",
       "      <th>Female</th>\n",
       "      <th>Male</th>\n",
       "      <th>All</th>\n",
       "    </tr>\n",
       "    <tr>\n",
       "      <th>Sport</th>\n",
       "      <th></th>\n",
       "      <th></th>\n",
       "      <th></th>\n",
       "    </tr>\n",
       "  </thead>\n",
       "  <tbody>\n",
       "    <tr>\n",
       "      <th>Baseball</th>\n",
       "      <td>34</td>\n",
       "      <td>34</td>\n",
       "      <td>68</td>\n",
       "    </tr>\n",
       "    <tr>\n",
       "      <th>Basketball</th>\n",
       "      <td>52</td>\n",
       "      <td>40</td>\n",
       "      <td>92</td>\n",
       "    </tr>\n",
       "    <tr>\n",
       "      <th>Football</th>\n",
       "      <td>20</td>\n",
       "      <td>58</td>\n",
       "      <td>78</td>\n",
       "    </tr>\n",
       "    <tr>\n",
       "      <th>Soccer</th>\n",
       "      <td>44</td>\n",
       "      <td>18</td>\n",
       "      <td>62</td>\n",
       "    </tr>\n",
       "  </tbody>\n",
       "</table>\n",
       "</div>"
      ],
      "text/plain": [
       "            Female  Male  All\n",
       "Sport                        \n",
       "Baseball        34    34   68\n",
       "Basketball      52    40   92\n",
       "Football        20    58   78\n",
       "Soccer          44    18   62"
      ]
     },
     "execution_count": 9,
     "metadata": {},
     "output_type": "execute_result"
    }
   ],
   "source": [
    "df['All'] = df['Male'] + df['Female']\n",
    "total_females = df['Female'].sum()\n",
    "total_males = df['Male'].sum()\n",
    "\n",
    "df"
   ]
  },
  {
   "cell_type": "code",
   "execution_count": 10,
   "id": "1a614869",
   "metadata": {},
   "outputs": [
    {
     "name": "stdout",
     "output_type": "stream",
     "text": [
      "Total Males:  150\n",
      "Total Females:  150\n"
     ]
    }
   ],
   "source": [
    "print(\"Total Males: \", total_males)\n",
    "print(\"Total Females: \", total_females)"
   ]
  },
  {
   "cell_type": "code",
   "execution_count": null,
   "id": "6dd72fb5",
   "metadata": {},
   "outputs": [],
   "source": []
  },
  {
   "cell_type": "code",
   "execution_count": null,
   "id": "0b5cdbe9",
   "metadata": {},
   "outputs": [],
   "source": []
  },
  {
   "cell_type": "markdown",
   "id": "99d7f983",
   "metadata": {},
   "source": [
    "### Calculate P(Male | Baseball)"
   ]
  },
  {
   "cell_type": "code",
   "execution_count": 11,
   "id": "d57adf04",
   "metadata": {},
   "outputs": [],
   "source": [
    "male_baseball = df.loc['Baseball', 'Male']\n",
    "baseball_total = df.loc['Baseball', 'All']\n",
    "p_M_given_B = male_baseball / baseball_total"
   ]
  },
  {
   "cell_type": "code",
   "execution_count": 22,
   "id": "20f54425",
   "metadata": {},
   "outputs": [
    {
     "name": "stdout",
     "output_type": "stream",
     "text": [
      "Probability that an individual is male, given that they prefer baseball\n",
      "\n",
      "P(Male | Baseball) is:  0.5\n"
     ]
    }
   ],
   "source": [
    "print(\"Probability that an individual is male, given that they prefer baseball\\n\")\n",
    "print(\"P(Male | Baseball) is: \", p_M_given_B)"
   ]
  },
  {
   "cell_type": "code",
   "execution_count": null,
   "id": "6a2e276e",
   "metadata": {},
   "outputs": [],
   "source": []
  },
  {
   "cell_type": "code",
   "execution_count": null,
   "id": "e9f4d2ab",
   "metadata": {},
   "outputs": [],
   "source": []
  },
  {
   "cell_type": "markdown",
   "id": "3ce603f6",
   "metadata": {},
   "source": [
    "### Calculate P(Basketball | Female)"
   ]
  },
  {
   "cell_type": "code",
   "execution_count": 20,
   "id": "c558b5d7",
   "metadata": {},
   "outputs": [],
   "source": [
    "female_basketball = df.loc['Basketball', 'Female']\n",
    "p_B_given_F = round(female_basketball / total_females, 2)"
   ]
  },
  {
   "cell_type": "code",
   "execution_count": 24,
   "id": "54c0ac88",
   "metadata": {},
   "outputs": [
    {
     "name": "stdout",
     "output_type": "stream",
     "text": [
      "Probability that an individual prefers basketball, given that they’re female\n",
      "\n",
      "P(Basketball | Female) is:  0.35\n"
     ]
    }
   ],
   "source": [
    "print(\"Probability that an individual prefers basketball, given that they’re female\\n\")\n",
    "print(\"P(Basketball | Female) is: \", p_B_given_F)"
   ]
  },
  {
   "cell_type": "code",
   "execution_count": null,
   "id": "44f8ff15",
   "metadata": {},
   "outputs": [],
   "source": []
  }
 ],
 "metadata": {
  "kernelspec": {
   "display_name": "Python 3 (ipykernel)",
   "language": "python",
   "name": "python3"
  },
  "language_info": {
   "codemirror_mode": {
    "name": "ipython",
    "version": 3
   },
   "file_extension": ".py",
   "mimetype": "text/x-python",
   "name": "python",
   "nbconvert_exporter": "python",
   "pygments_lexer": "ipython3",
   "version": "3.11.2"
  }
 },
 "nbformat": 4,
 "nbformat_minor": 5
}
