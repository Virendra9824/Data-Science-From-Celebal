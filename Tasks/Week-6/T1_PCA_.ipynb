{
 "cells": [
  {
   "cell_type": "code",
   "execution_count": 1,
   "id": "cfc8c297",
   "metadata": {},
   "outputs": [],
   "source": [
    "import numpy as np\n",
    "import pandas as pd\n",
    "from sklearn.preprocessing import StandardScaler\n",
    "\n",
    "import warnings\n",
    "warnings.filterwarnings(\"ignore\", category=FutureWarning, module=\"sklearn.utils.validation\")"
   ]
  },
  {
   "cell_type": "code",
   "execution_count": null,
   "id": "d4464b57",
   "metadata": {},
   "outputs": [],
   "source": []
  },
  {
   "cell_type": "code",
   "execution_count": 2,
   "id": "7f230fe0",
   "metadata": {},
   "outputs": [
    {
     "data": {
      "text/html": [
       "<div>\n",
       "<style scoped>\n",
       "    .dataframe tbody tr th:only-of-type {\n",
       "        vertical-align: middle;\n",
       "    }\n",
       "\n",
       "    .dataframe tbody tr th {\n",
       "        vertical-align: top;\n",
       "    }\n",
       "\n",
       "    .dataframe thead th {\n",
       "        text-align: right;\n",
       "    }\n",
       "</style>\n",
       "<table border=\"1\" class=\"dataframe\">\n",
       "  <thead>\n",
       "    <tr style=\"text-align: right;\">\n",
       "      <th></th>\n",
       "      <th>number_people</th>\n",
       "      <th>date</th>\n",
       "      <th>timestamp</th>\n",
       "      <th>day_of_week</th>\n",
       "      <th>is_weekend</th>\n",
       "      <th>is_holiday</th>\n",
       "      <th>temperature</th>\n",
       "      <th>is_start_of_semester</th>\n",
       "      <th>is_during_semester</th>\n",
       "      <th>month</th>\n",
       "      <th>hour</th>\n",
       "    </tr>\n",
       "  </thead>\n",
       "  <tbody>\n",
       "    <tr>\n",
       "      <th>0</th>\n",
       "      <td>37</td>\n",
       "      <td>2015-08-14 17:00:11-07:00</td>\n",
       "      <td>61211</td>\n",
       "      <td>4</td>\n",
       "      <td>0</td>\n",
       "      <td>0</td>\n",
       "      <td>71.76</td>\n",
       "      <td>0</td>\n",
       "      <td>0</td>\n",
       "      <td>8</td>\n",
       "      <td>17</td>\n",
       "    </tr>\n",
       "    <tr>\n",
       "      <th>1</th>\n",
       "      <td>45</td>\n",
       "      <td>2015-08-14 17:20:14-07:00</td>\n",
       "      <td>62414</td>\n",
       "      <td>4</td>\n",
       "      <td>0</td>\n",
       "      <td>0</td>\n",
       "      <td>71.76</td>\n",
       "      <td>0</td>\n",
       "      <td>0</td>\n",
       "      <td>8</td>\n",
       "      <td>17</td>\n",
       "    </tr>\n",
       "    <tr>\n",
       "      <th>2</th>\n",
       "      <td>40</td>\n",
       "      <td>2015-08-14 17:30:15-07:00</td>\n",
       "      <td>63015</td>\n",
       "      <td>4</td>\n",
       "      <td>0</td>\n",
       "      <td>0</td>\n",
       "      <td>71.76</td>\n",
       "      <td>0</td>\n",
       "      <td>0</td>\n",
       "      <td>8</td>\n",
       "      <td>17</td>\n",
       "    </tr>\n",
       "    <tr>\n",
       "      <th>3</th>\n",
       "      <td>44</td>\n",
       "      <td>2015-08-14 17:40:16-07:00</td>\n",
       "      <td>63616</td>\n",
       "      <td>4</td>\n",
       "      <td>0</td>\n",
       "      <td>0</td>\n",
       "      <td>71.76</td>\n",
       "      <td>0</td>\n",
       "      <td>0</td>\n",
       "      <td>8</td>\n",
       "      <td>17</td>\n",
       "    </tr>\n",
       "    <tr>\n",
       "      <th>4</th>\n",
       "      <td>45</td>\n",
       "      <td>2015-08-14 17:50:17-07:00</td>\n",
       "      <td>64217</td>\n",
       "      <td>4</td>\n",
       "      <td>0</td>\n",
       "      <td>0</td>\n",
       "      <td>71.76</td>\n",
       "      <td>0</td>\n",
       "      <td>0</td>\n",
       "      <td>8</td>\n",
       "      <td>17</td>\n",
       "    </tr>\n",
       "  </tbody>\n",
       "</table>\n",
       "</div>"
      ],
      "text/plain": [
       "   number_people                       date  timestamp  day_of_week  \\\n",
       "0             37  2015-08-14 17:00:11-07:00      61211            4   \n",
       "1             45  2015-08-14 17:20:14-07:00      62414            4   \n",
       "2             40  2015-08-14 17:30:15-07:00      63015            4   \n",
       "3             44  2015-08-14 17:40:16-07:00      63616            4   \n",
       "4             45  2015-08-14 17:50:17-07:00      64217            4   \n",
       "\n",
       "   is_weekend  is_holiday  temperature  is_start_of_semester  \\\n",
       "0           0           0        71.76                     0   \n",
       "1           0           0        71.76                     0   \n",
       "2           0           0        71.76                     0   \n",
       "3           0           0        71.76                     0   \n",
       "4           0           0        71.76                     0   \n",
       "\n",
       "   is_during_semester  month  hour  \n",
       "0                   0      8    17  \n",
       "1                   0      8    17  \n",
       "2                   0      8    17  \n",
       "3                   0      8    17  \n",
       "4                   0      8    17  "
      ]
     },
     "execution_count": 2,
     "metadata": {},
     "output_type": "execute_result"
    }
   ],
   "source": [
    "df = pd.read_csv(\"DataSets/data.csv\")\n",
    "df.head()"
   ]
  },
  {
   "cell_type": "code",
   "execution_count": null,
   "id": "d0d3719b",
   "metadata": {},
   "outputs": [],
   "source": []
  },
  {
   "cell_type": "code",
   "execution_count": 3,
   "id": "3aec15ec",
   "metadata": {},
   "outputs": [
    {
     "data": {
      "text/plain": [
       "(62184, 11)"
      ]
     },
     "execution_count": 3,
     "metadata": {},
     "output_type": "execute_result"
    }
   ],
   "source": [
    "df.shape"
   ]
  },
  {
   "cell_type": "code",
   "execution_count": 4,
   "id": "70033414",
   "metadata": {},
   "outputs": [
    {
     "name": "stdout",
     "output_type": "stream",
     "text": [
      "<class 'pandas.core.frame.DataFrame'>\n",
      "RangeIndex: 62184 entries, 0 to 62183\n",
      "Data columns (total 11 columns):\n",
      " #   Column                Non-Null Count  Dtype  \n",
      "---  ------                --------------  -----  \n",
      " 0   number_people         62184 non-null  int64  \n",
      " 1   date                  62184 non-null  object \n",
      " 2   timestamp             62184 non-null  int64  \n",
      " 3   day_of_week           62184 non-null  int64  \n",
      " 4   is_weekend            62184 non-null  int64  \n",
      " 5   is_holiday            62184 non-null  int64  \n",
      " 6   temperature           62184 non-null  float64\n",
      " 7   is_start_of_semester  62184 non-null  int64  \n",
      " 8   is_during_semester    62184 non-null  int64  \n",
      " 9   month                 62184 non-null  int64  \n",
      " 10  hour                  62184 non-null  int64  \n",
      "dtypes: float64(1), int64(9), object(1)\n",
      "memory usage: 5.2+ MB\n"
     ]
    }
   ],
   "source": [
    "df.info()"
   ]
  },
  {
   "cell_type": "code",
   "execution_count": 5,
   "id": "ab1fb5c8",
   "metadata": {},
   "outputs": [],
   "source": [
    "df = df.drop(columns='date')"
   ]
  },
  {
   "cell_type": "code",
   "execution_count": null,
   "id": "a4bbab03",
   "metadata": {},
   "outputs": [],
   "source": []
  },
  {
   "cell_type": "code",
   "execution_count": null,
   "id": "c29dbe6c",
   "metadata": {},
   "outputs": [],
   "source": []
  },
  {
   "cell_type": "markdown",
   "id": "d7b7e07c",
   "metadata": {},
   "source": [
    "### 1) Applying Standard Scalar"
   ]
  },
  {
   "cell_type": "code",
   "execution_count": 6,
   "id": "de56778b",
   "metadata": {},
   "outputs": [],
   "source": [
    "scalar = StandardScaler()\n",
    "df.iloc[:,1:] = scalar.fit_transform(df.iloc[:,1:])"
   ]
  },
  {
   "cell_type": "code",
   "execution_count": null,
   "id": "8aff0e7e",
   "metadata": {},
   "outputs": [],
   "source": []
  },
  {
   "cell_type": "markdown",
   "id": "b6da7a96",
   "metadata": {},
   "source": [
    "### 2) Find Covariance Matrix"
   ]
  },
  {
   "cell_type": "code",
   "execution_count": 8,
   "id": "14f4c10a",
   "metadata": {},
   "outputs": [
    {
     "data": {
      "text/plain": [
       "array([[ 1.00001608e+00, -1.79321968e-03, -5.08815704e-04,\n",
       "         2.85078360e-03,  1.84852463e-01,  9.55105884e-03,\n",
       "         4.46766172e-02, -2.32214497e-02,  9.99093506e-01],\n",
       "       [-1.79321968e-03,  1.00001608e+00,  7.91350923e-01,\n",
       "        -7.58632581e-02,  1.11689106e-02, -1.17822146e-02,\n",
       "        -4.82370614e-03,  1.55589363e-02, -1.91430511e-03],\n",
       "       [-5.08815704e-04,  7.91350923e-01,  1.00001608e+00,\n",
       "        -3.18993471e-02,  2.06736733e-02, -1.66460432e-02,\n",
       "        -3.61277725e-02,  8.46248251e-03, -5.17297084e-04],\n",
       "       [ 2.85078360e-03, -7.58632581e-02, -3.18993471e-02,\n",
       "         1.00001608e+00, -8.85280154e-02, -1.48581472e-02,\n",
       "        -7.07995743e-02, -9.49438154e-02,  2.84321058e-03],\n",
       "       [ 1.84852463e-01,  1.11689106e-02,  2.06736733e-02,\n",
       "        -8.85280154e-02,  1.00001608e+00,  9.32433629e-02,\n",
       "         1.52478347e-01,  6.31255958e-02,  1.85123709e-01],\n",
       "       [ 9.55105884e-03, -1.17822146e-02, -1.66460432e-02,\n",
       "        -1.48581472e-02,  9.32433629e-02,  1.00001608e+00,\n",
       "         2.09865473e-01, -1.37161817e-01,  1.00908854e-02],\n",
       "       [ 4.46766172e-02, -4.82370614e-03, -3.61277725e-02,\n",
       "        -7.07995743e-02,  1.52478347e-01,  2.09865473e-01,\n",
       "         1.00001608e+00,  9.65572296e-02,  4.55815903e-02],\n",
       "       [-2.32214497e-02,  1.55589363e-02,  8.46248251e-03,\n",
       "        -9.49438154e-02,  6.31255958e-02, -1.37161817e-01,\n",
       "         9.65572296e-02,  1.00001608e+00, -2.36238823e-02],\n",
       "       [ 9.99093506e-01, -1.91430511e-03, -5.17297084e-04,\n",
       "         2.84321058e-03,  1.85123709e-01,  1.00908854e-02,\n",
       "         4.55815903e-02, -2.36238823e-02,  1.00001608e+00]])"
      ]
     },
     "execution_count": 8,
     "metadata": {},
     "output_type": "execute_result"
    }
   ],
   "source": [
    "data_excluding_1stCol = df.iloc[:,1:]\n",
    "cov_mat = np.cov(data_excluding_1stCol, rowvar=False)\n",
    "cov_mat"
   ]
  },
  {
   "cell_type": "code",
   "execution_count": null,
   "id": "7b515e21",
   "metadata": {},
   "outputs": [],
   "source": []
  },
  {
   "cell_type": "code",
   "execution_count": null,
   "id": "699d026c",
   "metadata": {},
   "outputs": [],
   "source": []
  },
  {
   "cell_type": "markdown",
   "id": "40cfe056",
   "metadata": {},
   "source": [
    "### 3) Finding EV and EVs"
   ]
  },
  {
   "cell_type": "code",
   "execution_count": 11,
   "id": "a4f0ac78",
   "metadata": {},
   "outputs": [],
   "source": [
    "eigen_values, eigen_vectors = np.linalg.eig(cov_mat)"
   ]
  },
  {
   "cell_type": "code",
   "execution_count": 12,
   "id": "2e4dbf81",
   "metadata": {},
   "outputs": [
    {
     "data": {
      "text/plain": [
       "array([2.07646693e+00, 9.21968609e-04, 1.80177983e+00, 2.06714659e-01,\n",
       "       1.30805550e+00, 1.15910446e+00, 6.96730921e-01, 8.35014630e-01,\n",
       "       9.15355845e-01])"
      ]
     },
     "execution_count": 12,
     "metadata": {},
     "output_type": "execute_result"
    }
   ],
   "source": [
    "eigen_values"
   ]
  },
  {
   "cell_type": "code",
   "execution_count": null,
   "id": "299ca2f9",
   "metadata": {},
   "outputs": [],
   "source": []
  },
  {
   "cell_type": "code",
   "execution_count": 13,
   "id": "b1a2ff01",
   "metadata": {},
   "outputs": [
    {
     "data": {
      "text/plain": [
       "array([[ 6.78375185e-01, -7.07077464e-01,  6.23492637e-03,\n",
       "         4.64693511e-04,  1.50713904e-01,  8.89446773e-03,\n",
       "         2.87665177e-02, -1.26641828e-01,  1.22482764e-02],\n",
       "       [ 2.50474174e-03,  2.47614228e-04, -7.03172847e-01,\n",
       "        -7.06950124e-01,  1.36082414e-03, -5.36403712e-02,\n",
       "        -1.91735577e-02, -3.51437240e-02, -3.57950504e-02],\n",
       "       [ 2.34122969e-03, -2.16714902e-04, -7.01042996e-01,\n",
       "         7.05384710e-01,  3.33687865e-02, -6.99962109e-02,\n",
       "         7.64938225e-03,  1.16871713e-02, -6.89750084e-02],\n",
       "       [-2.43225805e-02, -8.95513198e-06,  9.93926778e-02,\n",
       "        -3.88614592e-02,  3.47124899e-01, -3.63288427e-01,\n",
       "         3.74775191e-02,  1.89808616e-01, -8.35531713e-01],\n",
       "       [ 2.54328513e-01, -1.08616539e-04, -3.01477754e-02,\n",
       "        -1.82769872e-02, -4.13390523e-01,  1.00041479e-01,\n",
       "        -2.96856471e-02,  8.66836273e-01, -2.97938771e-02],\n",
       "       [ 5.63548937e-02, -1.97977523e-04,  3.30320169e-02,\n",
       "        -1.90259303e-03, -4.74515670e-01, -5.81409366e-01,\n",
       "         6.37960596e-01, -1.50972872e-01,  5.23531315e-02],\n",
       "       [ 1.04490229e-01, -6.23473423e-04,  2.60777779e-02,\n",
       "         2.83650838e-02, -6.30208971e-01, -5.39262204e-02,\n",
       "        -5.84053590e-01, -3.55385905e-01, -3.46565510e-01],\n",
       "       [-1.02175730e-02,  3.23251599e-04, -3.80656208e-02,\n",
       "        -5.95499749e-04, -1.99843932e-01,  7.13542209e-01,\n",
       "         4.97546669e-01, -1.73201056e-01, -4.14505459e-01],\n",
       "       [ 6.78470553e-01,  7.07135636e-01,  6.31206170e-03,\n",
       "         9.49832072e-04,  1.50055010e-01,  8.36532899e-03,\n",
       "         2.82053389e-02, -1.26756404e-01,  1.21220835e-02]])"
      ]
     },
     "execution_count": 13,
     "metadata": {},
     "output_type": "execute_result"
    }
   ],
   "source": [
    "eigen_vectors"
   ]
  },
  {
   "cell_type": "code",
   "execution_count": null,
   "id": "5eb3137d",
   "metadata": {},
   "outputs": [],
   "source": []
  },
  {
   "cell_type": "code",
   "execution_count": null,
   "id": "dc0156a7",
   "metadata": {},
   "outputs": [],
   "source": []
  },
  {
   "cell_type": "markdown",
   "id": "f9bfbbbe",
   "metadata": {},
   "source": [
    "### 4) Taking top 3 Principle Components"
   ]
  },
  {
   "cell_type": "code",
   "execution_count": 14,
   "id": "141e49b9",
   "metadata": {},
   "outputs": [
    {
     "data": {
      "text/plain": [
       "array([[ 6.78375185e-01, -7.07077464e-01,  6.23492637e-03,\n",
       "         4.64693511e-04,  1.50713904e-01,  8.89446773e-03,\n",
       "         2.87665177e-02, -1.26641828e-01,  1.22482764e-02],\n",
       "       [ 2.50474174e-03,  2.47614228e-04, -7.03172847e-01,\n",
       "        -7.06950124e-01,  1.36082414e-03, -5.36403712e-02,\n",
       "        -1.91735577e-02, -3.51437240e-02, -3.57950504e-02],\n",
       "       [ 2.34122969e-03, -2.16714902e-04, -7.01042996e-01,\n",
       "         7.05384710e-01,  3.33687865e-02, -6.99962109e-02,\n",
       "         7.64938225e-03,  1.16871713e-02, -6.89750084e-02]])"
      ]
     },
     "execution_count": 14,
     "metadata": {},
     "output_type": "execute_result"
    }
   ],
   "source": [
    "pc = eigen_vectors[0:3]\n",
    "pc"
   ]
  },
  {
   "cell_type": "code",
   "execution_count": null,
   "id": "eae18c9f",
   "metadata": {},
   "outputs": [],
   "source": []
  },
  {
   "cell_type": "code",
   "execution_count": 15,
   "id": "cee64960",
   "metadata": {},
   "outputs": [],
   "source": [
    "transformed_df = np.dot(df.iloc[:,1:], pc.T)\n"
   ]
  },
  {
   "cell_type": "code",
   "execution_count": 16,
   "id": "f41a80eb",
   "metadata": {},
   "outputs": [],
   "source": [
    "new_df = pd.DataFrame(transformed_df,columns=['PC1','PC2', 'PC3'])"
   ]
  },
  {
   "cell_type": "code",
   "execution_count": 17,
   "id": "fda5ce07",
   "metadata": {},
   "outputs": [],
   "source": [
    "new_df['target'] = df['number_people'].values"
   ]
  },
  {
   "cell_type": "code",
   "execution_count": null,
   "id": "5ca8fef3",
   "metadata": {},
   "outputs": [],
   "source": []
  },
  {
   "cell_type": "code",
   "execution_count": null,
   "id": "6b17ec8a",
   "metadata": {},
   "outputs": [],
   "source": []
  },
  {
   "cell_type": "markdown",
   "id": "001589dd",
   "metadata": {},
   "source": [
    "### New DataFrame after Dimensionality Reduction"
   ]
  },
  {
   "cell_type": "code",
   "execution_count": 19,
   "id": "60a487e2",
   "metadata": {},
   "outputs": [
    {
     "data": {
      "text/html": [
       "<div>\n",
       "<style scoped>\n",
       "    .dataframe tbody tr th:only-of-type {\n",
       "        vertical-align: middle;\n",
       "    }\n",
       "\n",
       "    .dataframe tbody tr th {\n",
       "        vertical-align: top;\n",
       "    }\n",
       "\n",
       "    .dataframe thead th {\n",
       "        text-align: right;\n",
       "    }\n",
       "</style>\n",
       "<table border=\"1\" class=\"dataframe\">\n",
       "  <thead>\n",
       "    <tr style=\"text-align: right;\">\n",
       "      <th></th>\n",
       "      <th>PC1</th>\n",
       "      <th>PC2</th>\n",
       "      <th>PC3</th>\n",
       "      <th>target</th>\n",
       "    </tr>\n",
       "  </thead>\n",
       "  <tbody>\n",
       "    <tr>\n",
       "      <th>0</th>\n",
       "      <td>0.328007</td>\n",
       "      <td>0.493421</td>\n",
       "      <td>0.438396</td>\n",
       "      <td>37</td>\n",
       "    </tr>\n",
       "    <tr>\n",
       "      <th>1</th>\n",
       "      <td>0.361714</td>\n",
       "      <td>0.493545</td>\n",
       "      <td>0.438513</td>\n",
       "      <td>45</td>\n",
       "    </tr>\n",
       "    <tr>\n",
       "      <th>2</th>\n",
       "      <td>0.378553</td>\n",
       "      <td>0.493607</td>\n",
       "      <td>0.438571</td>\n",
       "      <td>40</td>\n",
       "    </tr>\n",
       "    <tr>\n",
       "      <th>3</th>\n",
       "      <td>0.395393</td>\n",
       "      <td>0.493669</td>\n",
       "      <td>0.438629</td>\n",
       "      <td>44</td>\n",
       "    </tr>\n",
       "    <tr>\n",
       "      <th>4</th>\n",
       "      <td>0.412232</td>\n",
       "      <td>0.493731</td>\n",
       "      <td>0.438687</td>\n",
       "      <td>45</td>\n",
       "    </tr>\n",
       "  </tbody>\n",
       "</table>\n",
       "</div>"
      ],
      "text/plain": [
       "        PC1       PC2       PC3  target\n",
       "0  0.328007  0.493421  0.438396      37\n",
       "1  0.361714  0.493545  0.438513      45\n",
       "2  0.378553  0.493607  0.438571      40\n",
       "3  0.395393  0.493669  0.438629      44\n",
       "4  0.412232  0.493731  0.438687      45"
      ]
     },
     "execution_count": 19,
     "metadata": {},
     "output_type": "execute_result"
    }
   ],
   "source": [
    "new_df.head()"
   ]
  },
  {
   "cell_type": "code",
   "execution_count": null,
   "id": "dc856bf2",
   "metadata": {},
   "outputs": [],
   "source": []
  },
  {
   "cell_type": "code",
   "execution_count": null,
   "id": "557333da",
   "metadata": {},
   "outputs": [],
   "source": []
  }
 ],
 "metadata": {
  "kernelspec": {
   "display_name": "Python 3 (ipykernel)",
   "language": "python",
   "name": "python3"
  },
  "language_info": {
   "codemirror_mode": {
    "name": "ipython",
    "version": 3
   },
   "file_extension": ".py",
   "mimetype": "text/x-python",
   "name": "python",
   "nbconvert_exporter": "python",
   "pygments_lexer": "ipython3",
   "version": "3.11.2"
  }
 },
 "nbformat": 4,
 "nbformat_minor": 5
}
