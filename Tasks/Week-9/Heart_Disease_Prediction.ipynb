{
 "cells": [
  {
   "cell_type": "markdown",
   "id": "007557e2",
   "metadata": {},
   "source": [
    "## What are the utility and types of neural networks?"
   ]
  },
  {
   "cell_type": "code",
   "execution_count": 2,
   "id": "702226db",
   "metadata": {},
   "outputs": [],
   "source": [
    "#Utility of Neural Networks:\n",
    "#Neural networks are a subset of machine learning, designed to mimic the way the human brain operates."
   ]
  },
  {
   "cell_type": "code",
   "execution_count": 3,
   "id": "4ec1d607",
   "metadata": {},
   "outputs": [
    {
     "data": {
      "text/plain": [
       "'\\nTypes of Neural Networks:\\nFeedforward Neural Networks (FNN): The simplest type where connections are unidirectional, moving from input to output.\\nConvolutional Neural Networks (CNN): Specialized for processing structured grid data like images, commonly used in image and video recognition.\\nRecurrent Neural Networks (RNN): Designed for sequential data, with connections that form cycles, enabling memory of previous inputs. Used in language modeling and time series prediction.\\nLong Short-Term Memory Networks (LSTM): A type of RNN that can remember information for long periods, used in text generation and speech recognition.\\nGenerative Adversarial Networks (GAN): Consists of two networks, a generator and a discriminator, used for generating realistic data samples.\\nAutoencoders: Used for unsupervised learning, typically for dimensionality reduction and feature learning.\\n'"
      ]
     },
     "execution_count": 3,
     "metadata": {},
     "output_type": "execute_result"
    }
   ],
   "source": [
    "'''\n",
    "Types of Neural Networks:\n",
    "Feedforward Neural Networks (FNN): The simplest type where connections are unidirectional, moving from input to output.\n",
    "Convolutional Neural Networks (CNN): Specialized for processing structured grid data like images, commonly used in image and video recognition.\n",
    "Recurrent Neural Networks (RNN): Designed for sequential data, with connections that form cycles, enabling memory of previous inputs. Used in language modeling and time series prediction.\n",
    "Long Short-Term Memory Networks (LSTM): A type of RNN that can remember information for long periods, used in text generation and speech recognition.\n",
    "Generative Adversarial Networks (GAN): Consists of two networks, a generator and a discriminator, used for generating realistic data samples.\n",
    "Autoencoders: Used for unsupervised learning, typically for dimensionality reduction and feature learning.\n",
    "'''"
   ]
  },
  {
   "cell_type": "code",
   "execution_count": null,
   "id": "e3efae28",
   "metadata": {},
   "outputs": [],
   "source": []
  },
  {
   "cell_type": "code",
   "execution_count": 4,
   "id": "21373f34",
   "metadata": {},
   "outputs": [],
   "source": [
    "import pandas as pd\n",
    "import numpy as np\n",
    "import warnings\n",
    "\n",
    "from sklearn.model_selection import train_test_split\n",
    "from sklearn.preprocessing import StandardScaler\n",
    "from sklearn.metrics import accuracy_score, confusion_matrix, classification_report\n",
    "\n",
    "import tensorflow as tf\n",
    "from tensorflow.keras.models import Sequential\n",
    "from tensorflow.keras.layers import Dense, Dropout"
   ]
  },
  {
   "cell_type": "code",
   "execution_count": null,
   "id": "62905e67",
   "metadata": {},
   "outputs": [],
   "source": [
    "# Suppress specific FutureWarning messages\n",
    "warnings.filterwarnings(\"ignore\", message=\"is_sparse is deprecated and will be removed in a future version.\")"
   ]
  },
  {
   "cell_type": "code",
   "execution_count": null,
   "id": "e8c2bf8d",
   "metadata": {},
   "outputs": [],
   "source": []
  },
  {
   "cell_type": "code",
   "execution_count": 5,
   "id": "a19e5d51",
   "metadata": {},
   "outputs": [],
   "source": [
    "df = pd.read_csv(\"heart.csv\")"
   ]
  },
  {
   "cell_type": "code",
   "execution_count": 6,
   "id": "820ccebe",
   "metadata": {},
   "outputs": [
    {
     "data": {
      "text/html": [
       "<div>\n",
       "<style scoped>\n",
       "    .dataframe tbody tr th:only-of-type {\n",
       "        vertical-align: middle;\n",
       "    }\n",
       "\n",
       "    .dataframe tbody tr th {\n",
       "        vertical-align: top;\n",
       "    }\n",
       "\n",
       "    .dataframe thead th {\n",
       "        text-align: right;\n",
       "    }\n",
       "</style>\n",
       "<table border=\"1\" class=\"dataframe\">\n",
       "  <thead>\n",
       "    <tr style=\"text-align: right;\">\n",
       "      <th></th>\n",
       "      <th>age</th>\n",
       "      <th>sex</th>\n",
       "      <th>cp</th>\n",
       "      <th>trestbps</th>\n",
       "      <th>chol</th>\n",
       "      <th>fbs</th>\n",
       "      <th>restecg</th>\n",
       "      <th>thalach</th>\n",
       "      <th>exang</th>\n",
       "      <th>oldpeak</th>\n",
       "      <th>slope</th>\n",
       "      <th>ca</th>\n",
       "      <th>thal</th>\n",
       "      <th>target</th>\n",
       "    </tr>\n",
       "  </thead>\n",
       "  <tbody>\n",
       "    <tr>\n",
       "      <th>0</th>\n",
       "      <td>52</td>\n",
       "      <td>1</td>\n",
       "      <td>0</td>\n",
       "      <td>125</td>\n",
       "      <td>212</td>\n",
       "      <td>0</td>\n",
       "      <td>1</td>\n",
       "      <td>168</td>\n",
       "      <td>0</td>\n",
       "      <td>1.0</td>\n",
       "      <td>2</td>\n",
       "      <td>2</td>\n",
       "      <td>3</td>\n",
       "      <td>0</td>\n",
       "    </tr>\n",
       "    <tr>\n",
       "      <th>1</th>\n",
       "      <td>53</td>\n",
       "      <td>1</td>\n",
       "      <td>0</td>\n",
       "      <td>140</td>\n",
       "      <td>203</td>\n",
       "      <td>1</td>\n",
       "      <td>0</td>\n",
       "      <td>155</td>\n",
       "      <td>1</td>\n",
       "      <td>3.1</td>\n",
       "      <td>0</td>\n",
       "      <td>0</td>\n",
       "      <td>3</td>\n",
       "      <td>0</td>\n",
       "    </tr>\n",
       "    <tr>\n",
       "      <th>2</th>\n",
       "      <td>70</td>\n",
       "      <td>1</td>\n",
       "      <td>0</td>\n",
       "      <td>145</td>\n",
       "      <td>174</td>\n",
       "      <td>0</td>\n",
       "      <td>1</td>\n",
       "      <td>125</td>\n",
       "      <td>1</td>\n",
       "      <td>2.6</td>\n",
       "      <td>0</td>\n",
       "      <td>0</td>\n",
       "      <td>3</td>\n",
       "      <td>0</td>\n",
       "    </tr>\n",
       "    <tr>\n",
       "      <th>3</th>\n",
       "      <td>61</td>\n",
       "      <td>1</td>\n",
       "      <td>0</td>\n",
       "      <td>148</td>\n",
       "      <td>203</td>\n",
       "      <td>0</td>\n",
       "      <td>1</td>\n",
       "      <td>161</td>\n",
       "      <td>0</td>\n",
       "      <td>0.0</td>\n",
       "      <td>2</td>\n",
       "      <td>1</td>\n",
       "      <td>3</td>\n",
       "      <td>0</td>\n",
       "    </tr>\n",
       "    <tr>\n",
       "      <th>4</th>\n",
       "      <td>62</td>\n",
       "      <td>0</td>\n",
       "      <td>0</td>\n",
       "      <td>138</td>\n",
       "      <td>294</td>\n",
       "      <td>1</td>\n",
       "      <td>1</td>\n",
       "      <td>106</td>\n",
       "      <td>0</td>\n",
       "      <td>1.9</td>\n",
       "      <td>1</td>\n",
       "      <td>3</td>\n",
       "      <td>2</td>\n",
       "      <td>0</td>\n",
       "    </tr>\n",
       "  </tbody>\n",
       "</table>\n",
       "</div>"
      ],
      "text/plain": [
       "   age  sex  cp  trestbps  chol  fbs  restecg  thalach  exang  oldpeak  slope  \\\n",
       "0   52    1   0       125   212    0        1      168      0      1.0      2   \n",
       "1   53    1   0       140   203    1        0      155      1      3.1      0   \n",
       "2   70    1   0       145   174    0        1      125      1      2.6      0   \n",
       "3   61    1   0       148   203    0        1      161      0      0.0      2   \n",
       "4   62    0   0       138   294    1        1      106      0      1.9      1   \n",
       "\n",
       "   ca  thal  target  \n",
       "0   2     3       0  \n",
       "1   0     3       0  \n",
       "2   0     3       0  \n",
       "3   1     3       0  \n",
       "4   3     2       0  "
      ]
     },
     "execution_count": 6,
     "metadata": {},
     "output_type": "execute_result"
    }
   ],
   "source": [
    "df.head()"
   ]
  },
  {
   "cell_type": "code",
   "execution_count": null,
   "id": "2fcace25",
   "metadata": {},
   "outputs": [],
   "source": []
  },
  {
   "cell_type": "code",
   "execution_count": 8,
   "id": "cb20ec05",
   "metadata": {},
   "outputs": [
    {
     "data": {
      "text/plain": [
       "(1025, 14)"
      ]
     },
     "execution_count": 8,
     "metadata": {},
     "output_type": "execute_result"
    }
   ],
   "source": [
    "df.shape"
   ]
  },
  {
   "cell_type": "code",
   "execution_count": null,
   "id": "a5b83a3c",
   "metadata": {},
   "outputs": [],
   "source": []
  },
  {
   "cell_type": "code",
   "execution_count": 9,
   "id": "8a8b91e1",
   "metadata": {},
   "outputs": [
    {
     "data": {
      "text/plain": [
       "Index(['age', 'sex', 'cp', 'trestbps', 'chol', 'fbs', 'restecg', 'thalach',\n",
       "       'exang', 'oldpeak', 'slope', 'ca', 'thal', 'target'],\n",
       "      dtype='object')"
      ]
     },
     "execution_count": 9,
     "metadata": {},
     "output_type": "execute_result"
    }
   ],
   "source": [
    "df.columns"
   ]
  },
  {
   "cell_type": "code",
   "execution_count": null,
   "id": "6e37b639",
   "metadata": {},
   "outputs": [],
   "source": []
  },
  {
   "cell_type": "code",
   "execution_count": 10,
   "id": "47a97a84",
   "metadata": {},
   "outputs": [
    {
     "data": {
      "text/html": [
       "<div>\n",
       "<style scoped>\n",
       "    .dataframe tbody tr th:only-of-type {\n",
       "        vertical-align: middle;\n",
       "    }\n",
       "\n",
       "    .dataframe tbody tr th {\n",
       "        vertical-align: top;\n",
       "    }\n",
       "\n",
       "    .dataframe thead th {\n",
       "        text-align: right;\n",
       "    }\n",
       "</style>\n",
       "<table border=\"1\" class=\"dataframe\">\n",
       "  <thead>\n",
       "    <tr style=\"text-align: right;\">\n",
       "      <th></th>\n",
       "      <th>age</th>\n",
       "      <th>sex</th>\n",
       "      <th>cp</th>\n",
       "      <th>trestbps</th>\n",
       "      <th>chol</th>\n",
       "      <th>fbs</th>\n",
       "      <th>restecg</th>\n",
       "      <th>thalach</th>\n",
       "      <th>exang</th>\n",
       "      <th>oldpeak</th>\n",
       "      <th>slope</th>\n",
       "      <th>ca</th>\n",
       "      <th>thal</th>\n",
       "      <th>target</th>\n",
       "    </tr>\n",
       "  </thead>\n",
       "  <tbody>\n",
       "    <tr>\n",
       "      <th>count</th>\n",
       "      <td>1025.000000</td>\n",
       "      <td>1025.000000</td>\n",
       "      <td>1025.000000</td>\n",
       "      <td>1025.000000</td>\n",
       "      <td>1025.00000</td>\n",
       "      <td>1025.000000</td>\n",
       "      <td>1025.000000</td>\n",
       "      <td>1025.000000</td>\n",
       "      <td>1025.000000</td>\n",
       "      <td>1025.000000</td>\n",
       "      <td>1025.000000</td>\n",
       "      <td>1025.000000</td>\n",
       "      <td>1025.000000</td>\n",
       "      <td>1025.000000</td>\n",
       "    </tr>\n",
       "    <tr>\n",
       "      <th>mean</th>\n",
       "      <td>54.434146</td>\n",
       "      <td>0.695610</td>\n",
       "      <td>0.942439</td>\n",
       "      <td>131.611707</td>\n",
       "      <td>246.00000</td>\n",
       "      <td>0.149268</td>\n",
       "      <td>0.529756</td>\n",
       "      <td>149.114146</td>\n",
       "      <td>0.336585</td>\n",
       "      <td>1.071512</td>\n",
       "      <td>1.385366</td>\n",
       "      <td>0.754146</td>\n",
       "      <td>2.323902</td>\n",
       "      <td>0.513171</td>\n",
       "    </tr>\n",
       "    <tr>\n",
       "      <th>std</th>\n",
       "      <td>9.072290</td>\n",
       "      <td>0.460373</td>\n",
       "      <td>1.029641</td>\n",
       "      <td>17.516718</td>\n",
       "      <td>51.59251</td>\n",
       "      <td>0.356527</td>\n",
       "      <td>0.527878</td>\n",
       "      <td>23.005724</td>\n",
       "      <td>0.472772</td>\n",
       "      <td>1.175053</td>\n",
       "      <td>0.617755</td>\n",
       "      <td>1.030798</td>\n",
       "      <td>0.620660</td>\n",
       "      <td>0.500070</td>\n",
       "    </tr>\n",
       "    <tr>\n",
       "      <th>min</th>\n",
       "      <td>29.000000</td>\n",
       "      <td>0.000000</td>\n",
       "      <td>0.000000</td>\n",
       "      <td>94.000000</td>\n",
       "      <td>126.00000</td>\n",
       "      <td>0.000000</td>\n",
       "      <td>0.000000</td>\n",
       "      <td>71.000000</td>\n",
       "      <td>0.000000</td>\n",
       "      <td>0.000000</td>\n",
       "      <td>0.000000</td>\n",
       "      <td>0.000000</td>\n",
       "      <td>0.000000</td>\n",
       "      <td>0.000000</td>\n",
       "    </tr>\n",
       "    <tr>\n",
       "      <th>25%</th>\n",
       "      <td>48.000000</td>\n",
       "      <td>0.000000</td>\n",
       "      <td>0.000000</td>\n",
       "      <td>120.000000</td>\n",
       "      <td>211.00000</td>\n",
       "      <td>0.000000</td>\n",
       "      <td>0.000000</td>\n",
       "      <td>132.000000</td>\n",
       "      <td>0.000000</td>\n",
       "      <td>0.000000</td>\n",
       "      <td>1.000000</td>\n",
       "      <td>0.000000</td>\n",
       "      <td>2.000000</td>\n",
       "      <td>0.000000</td>\n",
       "    </tr>\n",
       "    <tr>\n",
       "      <th>50%</th>\n",
       "      <td>56.000000</td>\n",
       "      <td>1.000000</td>\n",
       "      <td>1.000000</td>\n",
       "      <td>130.000000</td>\n",
       "      <td>240.00000</td>\n",
       "      <td>0.000000</td>\n",
       "      <td>1.000000</td>\n",
       "      <td>152.000000</td>\n",
       "      <td>0.000000</td>\n",
       "      <td>0.800000</td>\n",
       "      <td>1.000000</td>\n",
       "      <td>0.000000</td>\n",
       "      <td>2.000000</td>\n",
       "      <td>1.000000</td>\n",
       "    </tr>\n",
       "    <tr>\n",
       "      <th>75%</th>\n",
       "      <td>61.000000</td>\n",
       "      <td>1.000000</td>\n",
       "      <td>2.000000</td>\n",
       "      <td>140.000000</td>\n",
       "      <td>275.00000</td>\n",
       "      <td>0.000000</td>\n",
       "      <td>1.000000</td>\n",
       "      <td>166.000000</td>\n",
       "      <td>1.000000</td>\n",
       "      <td>1.800000</td>\n",
       "      <td>2.000000</td>\n",
       "      <td>1.000000</td>\n",
       "      <td>3.000000</td>\n",
       "      <td>1.000000</td>\n",
       "    </tr>\n",
       "    <tr>\n",
       "      <th>max</th>\n",
       "      <td>77.000000</td>\n",
       "      <td>1.000000</td>\n",
       "      <td>3.000000</td>\n",
       "      <td>200.000000</td>\n",
       "      <td>564.00000</td>\n",
       "      <td>1.000000</td>\n",
       "      <td>2.000000</td>\n",
       "      <td>202.000000</td>\n",
       "      <td>1.000000</td>\n",
       "      <td>6.200000</td>\n",
       "      <td>2.000000</td>\n",
       "      <td>4.000000</td>\n",
       "      <td>3.000000</td>\n",
       "      <td>1.000000</td>\n",
       "    </tr>\n",
       "  </tbody>\n",
       "</table>\n",
       "</div>"
      ],
      "text/plain": [
       "               age          sex           cp     trestbps        chol  \\\n",
       "count  1025.000000  1025.000000  1025.000000  1025.000000  1025.00000   \n",
       "mean     54.434146     0.695610     0.942439   131.611707   246.00000   \n",
       "std       9.072290     0.460373     1.029641    17.516718    51.59251   \n",
       "min      29.000000     0.000000     0.000000    94.000000   126.00000   \n",
       "25%      48.000000     0.000000     0.000000   120.000000   211.00000   \n",
       "50%      56.000000     1.000000     1.000000   130.000000   240.00000   \n",
       "75%      61.000000     1.000000     2.000000   140.000000   275.00000   \n",
       "max      77.000000     1.000000     3.000000   200.000000   564.00000   \n",
       "\n",
       "               fbs      restecg      thalach        exang      oldpeak  \\\n",
       "count  1025.000000  1025.000000  1025.000000  1025.000000  1025.000000   \n",
       "mean      0.149268     0.529756   149.114146     0.336585     1.071512   \n",
       "std       0.356527     0.527878    23.005724     0.472772     1.175053   \n",
       "min       0.000000     0.000000    71.000000     0.000000     0.000000   \n",
       "25%       0.000000     0.000000   132.000000     0.000000     0.000000   \n",
       "50%       0.000000     1.000000   152.000000     0.000000     0.800000   \n",
       "75%       0.000000     1.000000   166.000000     1.000000     1.800000   \n",
       "max       1.000000     2.000000   202.000000     1.000000     6.200000   \n",
       "\n",
       "             slope           ca         thal       target  \n",
       "count  1025.000000  1025.000000  1025.000000  1025.000000  \n",
       "mean      1.385366     0.754146     2.323902     0.513171  \n",
       "std       0.617755     1.030798     0.620660     0.500070  \n",
       "min       0.000000     0.000000     0.000000     0.000000  \n",
       "25%       1.000000     0.000000     2.000000     0.000000  \n",
       "50%       1.000000     0.000000     2.000000     1.000000  \n",
       "75%       2.000000     1.000000     3.000000     1.000000  \n",
       "max       2.000000     4.000000     3.000000     1.000000  "
      ]
     },
     "execution_count": 10,
     "metadata": {},
     "output_type": "execute_result"
    }
   ],
   "source": [
    "df.describe()"
   ]
  },
  {
   "cell_type": "code",
   "execution_count": null,
   "id": "ac437fe1",
   "metadata": {},
   "outputs": [],
   "source": []
  },
  {
   "cell_type": "code",
   "execution_count": 12,
   "id": "14c9f055",
   "metadata": {},
   "outputs": [
    {
     "data": {
      "text/plain": [
       "age           int64\n",
       "sex           int64\n",
       "cp            int64\n",
       "trestbps      int64\n",
       "chol          int64\n",
       "fbs           int64\n",
       "restecg       int64\n",
       "thalach       int64\n",
       "exang         int64\n",
       "oldpeak     float64\n",
       "slope         int64\n",
       "ca            int64\n",
       "thal          int64\n",
       "target        int64\n",
       "dtype: object"
      ]
     },
     "execution_count": 12,
     "metadata": {},
     "output_type": "execute_result"
    }
   ],
   "source": [
    "df.dtypes"
   ]
  },
  {
   "cell_type": "code",
   "execution_count": null,
   "id": "94565579",
   "metadata": {},
   "outputs": [],
   "source": []
  },
  {
   "cell_type": "code",
   "execution_count": null,
   "id": "8c3539a5",
   "metadata": {},
   "outputs": [],
   "source": []
  },
  {
   "cell_type": "code",
   "execution_count": 13,
   "id": "a82fbc73",
   "metadata": {},
   "outputs": [
    {
     "data": {
      "text/plain": [
       "age         0\n",
       "sex         0\n",
       "cp          0\n",
       "trestbps    0\n",
       "chol        0\n",
       "fbs         0\n",
       "restecg     0\n",
       "thalach     0\n",
       "exang       0\n",
       "oldpeak     0\n",
       "slope       0\n",
       "ca          0\n",
       "thal        0\n",
       "target      0\n",
       "dtype: int64"
      ]
     },
     "execution_count": 13,
     "metadata": {},
     "output_type": "execute_result"
    }
   ],
   "source": [
    "df.isnull().sum()"
   ]
  },
  {
   "cell_type": "code",
   "execution_count": null,
   "id": "9ace4c88",
   "metadata": {},
   "outputs": [],
   "source": []
  },
  {
   "cell_type": "markdown",
   "id": "5771d723",
   "metadata": {},
   "source": [
    "### Handling Duplicate values"
   ]
  },
  {
   "cell_type": "code",
   "execution_count": 14,
   "id": "ddf9ebfe",
   "metadata": {},
   "outputs": [
    {
     "data": {
      "text/plain": [
       "723"
      ]
     },
     "execution_count": 14,
     "metadata": {},
     "output_type": "execute_result"
    }
   ],
   "source": [
    "df.duplicated().sum()"
   ]
  },
  {
   "cell_type": "code",
   "execution_count": null,
   "id": "c0a7e168",
   "metadata": {},
   "outputs": [],
   "source": []
  },
  {
   "cell_type": "code",
   "execution_count": 15,
   "id": "e005e4e9",
   "metadata": {},
   "outputs": [],
   "source": [
    "df.drop_duplicates(keep='first', inplace=True)"
   ]
  },
  {
   "cell_type": "code",
   "execution_count": 16,
   "id": "73aff043",
   "metadata": {},
   "outputs": [
    {
     "data": {
      "text/plain": [
       "0"
      ]
     },
     "execution_count": 16,
     "metadata": {},
     "output_type": "execute_result"
    }
   ],
   "source": [
    "df.duplicated().sum()"
   ]
  },
  {
   "cell_type": "code",
   "execution_count": null,
   "id": "a878a4b3",
   "metadata": {},
   "outputs": [],
   "source": []
  },
  {
   "cell_type": "code",
   "execution_count": null,
   "id": "57a5deee",
   "metadata": {},
   "outputs": [],
   "source": []
  },
  {
   "cell_type": "code",
   "execution_count": 17,
   "id": "70d996a8",
   "metadata": {},
   "outputs": [],
   "source": [
    "X = df.drop('target', axis=1)\n",
    "y = df['target']"
   ]
  },
  {
   "cell_type": "code",
   "execution_count": null,
   "id": "339e36b2",
   "metadata": {},
   "outputs": [],
   "source": []
  },
  {
   "cell_type": "code",
   "execution_count": null,
   "id": "48103068",
   "metadata": {},
   "outputs": [],
   "source": []
  },
  {
   "cell_type": "code",
   "execution_count": 18,
   "id": "056702b2",
   "metadata": {},
   "outputs": [],
   "source": [
    "X_train, X_test, y_train, y_test = train_test_split(X, y, test_size=0.2, random_state=42)"
   ]
  },
  {
   "cell_type": "code",
   "execution_count": null,
   "id": "3de0fa5d",
   "metadata": {},
   "outputs": [],
   "source": []
  },
  {
   "cell_type": "markdown",
   "id": "b2dd889c",
   "metadata": {},
   "source": [
    "### Normalize the features"
   ]
  },
  {
   "cell_type": "code",
   "execution_count": 19,
   "id": "4405314e",
   "metadata": {},
   "outputs": [
    {
     "name": "stderr",
     "output_type": "stream",
     "text": [
      "C:\\Users\\Owner\\AppData\\Roaming\\Python\\Python311\\site-packages\\sklearn\\utils\\validation.py:767: FutureWarning: is_sparse is deprecated and will be removed in a future version. Check `isinstance(dtype, pd.SparseDtype)` instead.\n",
      "  if not hasattr(array, \"sparse\") and array.dtypes.apply(is_sparse).any():\n",
      "C:\\Users\\Owner\\AppData\\Roaming\\Python\\Python311\\site-packages\\sklearn\\utils\\validation.py:605: FutureWarning: is_sparse is deprecated and will be removed in a future version. Check `isinstance(dtype, pd.SparseDtype)` instead.\n",
      "  if is_sparse(pd_dtype):\n",
      "C:\\Users\\Owner\\AppData\\Roaming\\Python\\Python311\\site-packages\\sklearn\\utils\\validation.py:614: FutureWarning: is_sparse is deprecated and will be removed in a future version. Check `isinstance(dtype, pd.SparseDtype)` instead.\n",
      "  if is_sparse(pd_dtype) or not is_extension_array_dtype(pd_dtype):\n",
      "C:\\Users\\Owner\\AppData\\Roaming\\Python\\Python311\\site-packages\\sklearn\\utils\\validation.py:767: FutureWarning: is_sparse is deprecated and will be removed in a future version. Check `isinstance(dtype, pd.SparseDtype)` instead.\n",
      "  if not hasattr(array, \"sparse\") and array.dtypes.apply(is_sparse).any():\n",
      "C:\\Users\\Owner\\AppData\\Roaming\\Python\\Python311\\site-packages\\sklearn\\utils\\validation.py:605: FutureWarning: is_sparse is deprecated and will be removed in a future version. Check `isinstance(dtype, pd.SparseDtype)` instead.\n",
      "  if is_sparse(pd_dtype):\n",
      "C:\\Users\\Owner\\AppData\\Roaming\\Python\\Python311\\site-packages\\sklearn\\utils\\validation.py:614: FutureWarning: is_sparse is deprecated and will be removed in a future version. Check `isinstance(dtype, pd.SparseDtype)` instead.\n",
      "  if is_sparse(pd_dtype) or not is_extension_array_dtype(pd_dtype):\n",
      "C:\\Users\\Owner\\AppData\\Roaming\\Python\\Python311\\site-packages\\sklearn\\utils\\validation.py:767: FutureWarning: is_sparse is deprecated and will be removed in a future version. Check `isinstance(dtype, pd.SparseDtype)` instead.\n",
      "  if not hasattr(array, \"sparse\") and array.dtypes.apply(is_sparse).any():\n",
      "C:\\Users\\Owner\\AppData\\Roaming\\Python\\Python311\\site-packages\\sklearn\\utils\\validation.py:605: FutureWarning: is_sparse is deprecated and will be removed in a future version. Check `isinstance(dtype, pd.SparseDtype)` instead.\n",
      "  if is_sparse(pd_dtype):\n",
      "C:\\Users\\Owner\\AppData\\Roaming\\Python\\Python311\\site-packages\\sklearn\\utils\\validation.py:614: FutureWarning: is_sparse is deprecated and will be removed in a future version. Check `isinstance(dtype, pd.SparseDtype)` instead.\n",
      "  if is_sparse(pd_dtype) or not is_extension_array_dtype(pd_dtype):\n"
     ]
    }
   ],
   "source": [
    "scaler = StandardScaler()\n",
    "X_train = scaler.fit_transform(X_train)\n",
    "X_test = scaler.transform(X_test)"
   ]
  },
  {
   "cell_type": "code",
   "execution_count": null,
   "id": "7ba07160",
   "metadata": {},
   "outputs": [],
   "source": []
  },
  {
   "cell_type": "code",
   "execution_count": 20,
   "id": "c422b0db",
   "metadata": {},
   "outputs": [],
   "source": [
    "model = Sequential([\n",
    "    Dense(16, input_dim=X_train.shape[1], activation='relu'),\n",
    "    Dropout(0.5),\n",
    "    Dense(32, activation='relu'),\n",
    "    Dropout(0.5),\n",
    "    Dense(1, activation='sigmoid')\n",
    "])"
   ]
  },
  {
   "cell_type": "code",
   "execution_count": null,
   "id": "e1c17c8b",
   "metadata": {},
   "outputs": [],
   "source": []
  },
  {
   "cell_type": "code",
   "execution_count": 21,
   "id": "d1e41476",
   "metadata": {},
   "outputs": [],
   "source": [
    "model.compile(optimizer='adam', loss='binary_crossentropy', metrics=['accuracy'])"
   ]
  },
  {
   "cell_type": "code",
   "execution_count": 22,
   "id": "e6e377ff",
   "metadata": {},
   "outputs": [
    {
     "name": "stdout",
     "output_type": "stream",
     "text": [
      "Epoch 1/100\n",
      "6/6 [==============================] - 2s 94ms/step - loss: 0.7479 - accuracy: 0.6458 - val_loss: 0.7497 - val_accuracy: 0.4286\n",
      "Epoch 2/100\n",
      "6/6 [==============================] - 0s 14ms/step - loss: 0.7600 - accuracy: 0.5625 - val_loss: 0.7204 - val_accuracy: 0.4898\n",
      "Epoch 3/100\n",
      "6/6 [==============================] - 0s 13ms/step - loss: 0.7989 - accuracy: 0.5677 - val_loss: 0.6924 - val_accuracy: 0.5102\n",
      "Epoch 4/100\n",
      "6/6 [==============================] - 0s 15ms/step - loss: 0.7221 - accuracy: 0.5885 - val_loss: 0.6700 - val_accuracy: 0.5714\n",
      "Epoch 5/100\n",
      "6/6 [==============================] - 0s 15ms/step - loss: 0.6877 - accuracy: 0.5938 - val_loss: 0.6496 - val_accuracy: 0.6327\n",
      "Epoch 6/100\n",
      "6/6 [==============================] - 0s 15ms/step - loss: 0.6571 - accuracy: 0.5990 - val_loss: 0.6307 - val_accuracy: 0.7347\n",
      "Epoch 7/100\n",
      "6/6 [==============================] - 0s 14ms/step - loss: 0.6940 - accuracy: 0.6562 - val_loss: 0.6126 - val_accuracy: 0.7959\n",
      "Epoch 8/100\n",
      "6/6 [==============================] - 0s 14ms/step - loss: 0.5720 - accuracy: 0.6979 - val_loss: 0.5965 - val_accuracy: 0.7959\n",
      "Epoch 9/100\n",
      "6/6 [==============================] - 0s 15ms/step - loss: 0.6347 - accuracy: 0.5990 - val_loss: 0.5812 - val_accuracy: 0.8163\n",
      "Epoch 10/100\n",
      "6/6 [==============================] - 0s 14ms/step - loss: 0.6435 - accuracy: 0.6198 - val_loss: 0.5680 - val_accuracy: 0.8163\n",
      "Epoch 11/100\n",
      "6/6 [==============================] - 0s 14ms/step - loss: 0.6127 - accuracy: 0.7031 - val_loss: 0.5553 - val_accuracy: 0.8367\n",
      "Epoch 12/100\n",
      "6/6 [==============================] - 0s 15ms/step - loss: 0.6136 - accuracy: 0.6458 - val_loss: 0.5432 - val_accuracy: 0.8367\n",
      "Epoch 13/100\n",
      "6/6 [==============================] - 0s 16ms/step - loss: 0.5692 - accuracy: 0.6771 - val_loss: 0.5322 - val_accuracy: 0.8367\n",
      "Epoch 14/100\n",
      "6/6 [==============================] - 0s 17ms/step - loss: 0.5708 - accuracy: 0.6667 - val_loss: 0.5217 - val_accuracy: 0.8367\n",
      "Epoch 15/100\n",
      "6/6 [==============================] - 0s 16ms/step - loss: 0.5560 - accuracy: 0.7031 - val_loss: 0.5115 - val_accuracy: 0.8571\n",
      "Epoch 16/100\n",
      "6/6 [==============================] - 0s 16ms/step - loss: 0.5078 - accuracy: 0.7656 - val_loss: 0.5015 - val_accuracy: 0.8571\n",
      "Epoch 17/100\n",
      "6/6 [==============================] - 0s 16ms/step - loss: 0.5425 - accuracy: 0.7344 - val_loss: 0.4922 - val_accuracy: 0.8571\n",
      "Epoch 18/100\n",
      "6/6 [==============================] - 0s 15ms/step - loss: 0.6059 - accuracy: 0.7188 - val_loss: 0.4847 - val_accuracy: 0.8776\n",
      "Epoch 19/100\n",
      "6/6 [==============================] - 0s 14ms/step - loss: 0.5412 - accuracy: 0.7031 - val_loss: 0.4785 - val_accuracy: 0.8776\n",
      "Epoch 20/100\n",
      "6/6 [==============================] - 0s 14ms/step - loss: 0.5608 - accuracy: 0.7031 - val_loss: 0.4725 - val_accuracy: 0.8776\n",
      "Epoch 21/100\n",
      "6/6 [==============================] - 0s 15ms/step - loss: 0.5412 - accuracy: 0.7500 - val_loss: 0.4670 - val_accuracy: 0.8776\n",
      "Epoch 22/100\n",
      "6/6 [==============================] - 0s 14ms/step - loss: 0.4859 - accuracy: 0.7604 - val_loss: 0.4608 - val_accuracy: 0.8776\n",
      "Epoch 23/100\n",
      "6/6 [==============================] - 0s 15ms/step - loss: 0.5095 - accuracy: 0.7552 - val_loss: 0.4561 - val_accuracy: 0.8776\n",
      "Epoch 24/100\n",
      "6/6 [==============================] - 0s 14ms/step - loss: 0.5275 - accuracy: 0.7865 - val_loss: 0.4510 - val_accuracy: 0.8980\n",
      "Epoch 25/100\n",
      "6/6 [==============================] - 0s 14ms/step - loss: 0.5655 - accuracy: 0.7292 - val_loss: 0.4461 - val_accuracy: 0.8980\n",
      "Epoch 26/100\n",
      "6/6 [==============================] - 0s 15ms/step - loss: 0.4973 - accuracy: 0.7552 - val_loss: 0.4416 - val_accuracy: 0.8980\n",
      "Epoch 27/100\n",
      "6/6 [==============================] - 0s 13ms/step - loss: 0.5266 - accuracy: 0.7292 - val_loss: 0.4385 - val_accuracy: 0.8980\n",
      "Epoch 28/100\n",
      "6/6 [==============================] - 0s 14ms/step - loss: 0.5177 - accuracy: 0.7604 - val_loss: 0.4355 - val_accuracy: 0.9184\n",
      "Epoch 29/100\n",
      "6/6 [==============================] - 0s 18ms/step - loss: 0.5338 - accuracy: 0.7396 - val_loss: 0.4316 - val_accuracy: 0.9184\n",
      "Epoch 30/100\n",
      "6/6 [==============================] - 0s 14ms/step - loss: 0.4820 - accuracy: 0.7552 - val_loss: 0.4275 - val_accuracy: 0.9184\n",
      "Epoch 31/100\n",
      "6/6 [==============================] - 0s 14ms/step - loss: 0.4680 - accuracy: 0.7917 - val_loss: 0.4232 - val_accuracy: 0.9184\n",
      "Epoch 32/100\n",
      "6/6 [==============================] - 0s 13ms/step - loss: 0.4603 - accuracy: 0.7760 - val_loss: 0.4197 - val_accuracy: 0.9184\n",
      "Epoch 33/100\n",
      "6/6 [==============================] - 0s 15ms/step - loss: 0.4673 - accuracy: 0.7760 - val_loss: 0.4178 - val_accuracy: 0.9184\n",
      "Epoch 34/100\n",
      "6/6 [==============================] - 0s 26ms/step - loss: 0.4752 - accuracy: 0.7552 - val_loss: 0.4156 - val_accuracy: 0.9184\n",
      "Epoch 35/100\n",
      "6/6 [==============================] - 0s 24ms/step - loss: 0.4636 - accuracy: 0.7865 - val_loss: 0.4145 - val_accuracy: 0.9184\n",
      "Epoch 36/100\n",
      "6/6 [==============================] - 0s 18ms/step - loss: 0.4537 - accuracy: 0.7708 - val_loss: 0.4128 - val_accuracy: 0.9184\n",
      "Epoch 37/100\n",
      "6/6 [==============================] - 0s 19ms/step - loss: 0.4274 - accuracy: 0.7969 - val_loss: 0.4109 - val_accuracy: 0.9184\n",
      "Epoch 38/100\n",
      "6/6 [==============================] - 0s 16ms/step - loss: 0.4342 - accuracy: 0.8177 - val_loss: 0.4087 - val_accuracy: 0.9184\n",
      "Epoch 39/100\n",
      "6/6 [==============================] - 0s 16ms/step - loss: 0.4812 - accuracy: 0.7656 - val_loss: 0.4080 - val_accuracy: 0.9184\n",
      "Epoch 40/100\n",
      "6/6 [==============================] - 0s 15ms/step - loss: 0.4599 - accuracy: 0.8073 - val_loss: 0.4075 - val_accuracy: 0.9184\n",
      "Epoch 41/100\n",
      "6/6 [==============================] - 0s 16ms/step - loss: 0.4329 - accuracy: 0.8281 - val_loss: 0.4065 - val_accuracy: 0.9184\n",
      "Epoch 42/100\n",
      "6/6 [==============================] - 0s 15ms/step - loss: 0.4820 - accuracy: 0.7708 - val_loss: 0.4049 - val_accuracy: 0.9184\n",
      "Epoch 43/100\n",
      "6/6 [==============================] - 0s 22ms/step - loss: 0.3871 - accuracy: 0.8542 - val_loss: 0.4026 - val_accuracy: 0.9184\n",
      "Epoch 44/100\n",
      "6/6 [==============================] - 0s 19ms/step - loss: 0.4737 - accuracy: 0.7917 - val_loss: 0.4008 - val_accuracy: 0.9184\n",
      "Epoch 45/100\n",
      "6/6 [==============================] - 0s 20ms/step - loss: 0.4290 - accuracy: 0.8229 - val_loss: 0.3993 - val_accuracy: 0.9184\n",
      "Epoch 46/100\n",
      "6/6 [==============================] - 0s 19ms/step - loss: 0.4645 - accuracy: 0.7917 - val_loss: 0.3979 - val_accuracy: 0.9184\n",
      "Epoch 47/100\n",
      "6/6 [==============================] - 0s 20ms/step - loss: 0.4418 - accuracy: 0.7917 - val_loss: 0.3966 - val_accuracy: 0.9184\n",
      "Epoch 48/100\n",
      "6/6 [==============================] - 0s 17ms/step - loss: 0.4491 - accuracy: 0.7917 - val_loss: 0.3959 - val_accuracy: 0.9184\n",
      "Epoch 49/100\n",
      "6/6 [==============================] - 0s 19ms/step - loss: 0.4359 - accuracy: 0.8229 - val_loss: 0.3958 - val_accuracy: 0.9184\n",
      "Epoch 50/100\n",
      "6/6 [==============================] - 0s 19ms/step - loss: 0.4116 - accuracy: 0.8385 - val_loss: 0.3955 - val_accuracy: 0.9184\n",
      "Epoch 51/100\n",
      "6/6 [==============================] - 0s 19ms/step - loss: 0.4333 - accuracy: 0.8229 - val_loss: 0.3949 - val_accuracy: 0.9184\n",
      "Epoch 52/100\n",
      "6/6 [==============================] - 0s 20ms/step - loss: 0.4106 - accuracy: 0.7917 - val_loss: 0.3940 - val_accuracy: 0.9184\n",
      "Epoch 53/100\n",
      "6/6 [==============================] - 0s 19ms/step - loss: 0.4615 - accuracy: 0.8073 - val_loss: 0.3927 - val_accuracy: 0.9184\n",
      "Epoch 54/100\n",
      "6/6 [==============================] - 0s 19ms/step - loss: 0.4292 - accuracy: 0.8073 - val_loss: 0.3921 - val_accuracy: 0.9184\n",
      "Epoch 55/100\n",
      "6/6 [==============================] - 0s 34ms/step - loss: 0.3956 - accuracy: 0.8125 - val_loss: 0.3915 - val_accuracy: 0.9184\n",
      "Epoch 56/100\n",
      "6/6 [==============================] - 0s 19ms/step - loss: 0.4177 - accuracy: 0.8021 - val_loss: 0.3909 - val_accuracy: 0.9184\n",
      "Epoch 57/100\n",
      "6/6 [==============================] - 0s 19ms/step - loss: 0.4060 - accuracy: 0.8073 - val_loss: 0.3903 - val_accuracy: 0.9184\n",
      "Epoch 58/100\n",
      "6/6 [==============================] - 0s 20ms/step - loss: 0.3914 - accuracy: 0.8542 - val_loss: 0.3903 - val_accuracy: 0.9184\n",
      "Epoch 59/100\n"
     ]
    },
    {
     "name": "stdout",
     "output_type": "stream",
     "text": [
      "6/6 [==============================] - 0s 16ms/step - loss: 0.3716 - accuracy: 0.8333 - val_loss: 0.3900 - val_accuracy: 0.9184\n",
      "Epoch 60/100\n",
      "6/6 [==============================] - 0s 20ms/step - loss: 0.4050 - accuracy: 0.8125 - val_loss: 0.3900 - val_accuracy: 0.9184\n",
      "Epoch 61/100\n",
      "6/6 [==============================] - 0s 19ms/step - loss: 0.3707 - accuracy: 0.8438 - val_loss: 0.3897 - val_accuracy: 0.9184\n",
      "Epoch 62/100\n",
      "6/6 [==============================] - 0s 15ms/step - loss: 0.3858 - accuracy: 0.8177 - val_loss: 0.3893 - val_accuracy: 0.9184\n",
      "Epoch 63/100\n",
      "6/6 [==============================] - 0s 15ms/step - loss: 0.3809 - accuracy: 0.8281 - val_loss: 0.3886 - val_accuracy: 0.9184\n",
      "Epoch 64/100\n",
      "6/6 [==============================] - 0s 17ms/step - loss: 0.3957 - accuracy: 0.8073 - val_loss: 0.3877 - val_accuracy: 0.9184\n",
      "Epoch 65/100\n",
      "6/6 [==============================] - 0s 21ms/step - loss: 0.3774 - accuracy: 0.8438 - val_loss: 0.3881 - val_accuracy: 0.8980\n",
      "Epoch 66/100\n",
      "6/6 [==============================] - 0s 17ms/step - loss: 0.4018 - accuracy: 0.8385 - val_loss: 0.3884 - val_accuracy: 0.8980\n",
      "Epoch 67/100\n",
      "6/6 [==============================] - 0s 18ms/step - loss: 0.3433 - accuracy: 0.8333 - val_loss: 0.3895 - val_accuracy: 0.8980\n",
      "Epoch 68/100\n",
      "6/6 [==============================] - 0s 19ms/step - loss: 0.3782 - accuracy: 0.8490 - val_loss: 0.3899 - val_accuracy: 0.8980\n",
      "Epoch 69/100\n",
      "6/6 [==============================] - 0s 20ms/step - loss: 0.3658 - accuracy: 0.8385 - val_loss: 0.3894 - val_accuracy: 0.8980\n",
      "Epoch 70/100\n",
      "6/6 [==============================] - 0s 19ms/step - loss: 0.3879 - accuracy: 0.8177 - val_loss: 0.3894 - val_accuracy: 0.8980\n",
      "Epoch 71/100\n",
      "6/6 [==============================] - 0s 16ms/step - loss: 0.3521 - accuracy: 0.8385 - val_loss: 0.3893 - val_accuracy: 0.9184\n",
      "Epoch 72/100\n",
      "6/6 [==============================] - 0s 16ms/step - loss: 0.3956 - accuracy: 0.8438 - val_loss: 0.3889 - val_accuracy: 0.9184\n",
      "Epoch 73/100\n",
      "6/6 [==============================] - 0s 16ms/step - loss: 0.3901 - accuracy: 0.8490 - val_loss: 0.3886 - val_accuracy: 0.9184\n",
      "Epoch 74/100\n",
      "6/6 [==============================] - 0s 15ms/step - loss: 0.3841 - accuracy: 0.8438 - val_loss: 0.3887 - val_accuracy: 0.9184\n",
      "Epoch 75/100\n",
      "6/6 [==============================] - 0s 17ms/step - loss: 0.3654 - accuracy: 0.8594 - val_loss: 0.3887 - val_accuracy: 0.9184\n",
      "Epoch 76/100\n",
      "6/6 [==============================] - 0s 16ms/step - loss: 0.3840 - accuracy: 0.8385 - val_loss: 0.3881 - val_accuracy: 0.9184\n",
      "Epoch 77/100\n",
      "6/6 [==============================] - 0s 16ms/step - loss: 0.3129 - accuracy: 0.8854 - val_loss: 0.3877 - val_accuracy: 0.9184\n",
      "Epoch 78/100\n",
      "6/6 [==============================] - 0s 16ms/step - loss: 0.3671 - accuracy: 0.8490 - val_loss: 0.3874 - val_accuracy: 0.9184\n",
      "Epoch 79/100\n",
      "6/6 [==============================] - 0s 15ms/step - loss: 0.3243 - accuracy: 0.8854 - val_loss: 0.3870 - val_accuracy: 0.9184\n",
      "Epoch 80/100\n",
      "6/6 [==============================] - 0s 14ms/step - loss: 0.3807 - accuracy: 0.8438 - val_loss: 0.3865 - val_accuracy: 0.9184\n",
      "Epoch 81/100\n",
      "6/6 [==============================] - 0s 16ms/step - loss: 0.3049 - accuracy: 0.8698 - val_loss: 0.3870 - val_accuracy: 0.9184\n",
      "Epoch 82/100\n",
      "6/6 [==============================] - 0s 14ms/step - loss: 0.3991 - accuracy: 0.8594 - val_loss: 0.3871 - val_accuracy: 0.9184\n",
      "Epoch 83/100\n",
      "6/6 [==============================] - 0s 16ms/step - loss: 0.3799 - accuracy: 0.8490 - val_loss: 0.3865 - val_accuracy: 0.9184\n",
      "Epoch 84/100\n",
      "6/6 [==============================] - 0s 17ms/step - loss: 0.3703 - accuracy: 0.8438 - val_loss: 0.3862 - val_accuracy: 0.9184\n",
      "Epoch 85/100\n",
      "6/6 [==============================] - 0s 15ms/step - loss: 0.3782 - accuracy: 0.8333 - val_loss: 0.3863 - val_accuracy: 0.9184\n",
      "Epoch 86/100\n",
      "6/6 [==============================] - 0s 14ms/step - loss: 0.3382 - accuracy: 0.8802 - val_loss: 0.3858 - val_accuracy: 0.9184\n",
      "Epoch 87/100\n",
      "6/6 [==============================] - 0s 15ms/step - loss: 0.3611 - accuracy: 0.8438 - val_loss: 0.3859 - val_accuracy: 0.9184\n",
      "Epoch 88/100\n",
      "6/6 [==============================] - 0s 14ms/step - loss: 0.3793 - accuracy: 0.8125 - val_loss: 0.3868 - val_accuracy: 0.9184\n",
      "Epoch 89/100\n",
      "6/6 [==============================] - 0s 22ms/step - loss: 0.3594 - accuracy: 0.8490 - val_loss: 0.3886 - val_accuracy: 0.9184\n",
      "Epoch 90/100\n",
      "6/6 [==============================] - 0s 16ms/step - loss: 0.3437 - accuracy: 0.8594 - val_loss: 0.3902 - val_accuracy: 0.9184\n",
      "Epoch 91/100\n",
      "6/6 [==============================] - 0s 26ms/step - loss: 0.3872 - accuracy: 0.8281 - val_loss: 0.3908 - val_accuracy: 0.9184\n",
      "Epoch 92/100\n",
      "6/6 [==============================] - 0s 19ms/step - loss: 0.3269 - accuracy: 0.8438 - val_loss: 0.3914 - val_accuracy: 0.9184\n",
      "Epoch 93/100\n",
      "6/6 [==============================] - 0s 16ms/step - loss: 0.3467 - accuracy: 0.8854 - val_loss: 0.3918 - val_accuracy: 0.9184\n",
      "Epoch 94/100\n",
      "6/6 [==============================] - 0s 17ms/step - loss: 0.3264 - accuracy: 0.8698 - val_loss: 0.3921 - val_accuracy: 0.9184\n",
      "Epoch 95/100\n",
      "6/6 [==============================] - 0s 19ms/step - loss: 0.3604 - accuracy: 0.8438 - val_loss: 0.3919 - val_accuracy: 0.9184\n",
      "Epoch 96/100\n",
      "6/6 [==============================] - 0s 17ms/step - loss: 0.3662 - accuracy: 0.8229 - val_loss: 0.3922 - val_accuracy: 0.9184\n",
      "Epoch 97/100\n",
      "6/6 [==============================] - 0s 17ms/step - loss: 0.3500 - accuracy: 0.8438 - val_loss: 0.3916 - val_accuracy: 0.9184\n",
      "Epoch 98/100\n",
      "6/6 [==============================] - 0s 21ms/step - loss: 0.3888 - accuracy: 0.8385 - val_loss: 0.3910 - val_accuracy: 0.9184\n",
      "Epoch 99/100\n",
      "6/6 [==============================] - 0s 19ms/step - loss: 0.3860 - accuracy: 0.8594 - val_loss: 0.3899 - val_accuracy: 0.9184\n",
      "Epoch 100/100\n",
      "6/6 [==============================] - 0s 16ms/step - loss: 0.3120 - accuracy: 0.8750 - val_loss: 0.3893 - val_accuracy: 0.9184\n"
     ]
    }
   ],
   "source": [
    "history = model.fit(X_train, y_train, epochs=100, batch_size=32, validation_split=0.2, verbose=1)"
   ]
  },
  {
   "cell_type": "code",
   "execution_count": null,
   "id": "194b4397",
   "metadata": {},
   "outputs": [],
   "source": []
  },
  {
   "cell_type": "code",
   "execution_count": 23,
   "id": "182a44b2",
   "metadata": {},
   "outputs": [
    {
     "name": "stdout",
     "output_type": "stream",
     "text": [
      "2/2 [==============================] - 0s 6ms/step\n"
     ]
    }
   ],
   "source": [
    "y_pred_prob = model.predict(X_test)\n",
    "y_pred = (y_pred_prob > 0.5).astype(int)"
   ]
  },
  {
   "cell_type": "code",
   "execution_count": null,
   "id": "6733def3",
   "metadata": {},
   "outputs": [],
   "source": []
  },
  {
   "cell_type": "code",
   "execution_count": 24,
   "id": "0d0db4ba",
   "metadata": {},
   "outputs": [
    {
     "name": "stdout",
     "output_type": "stream",
     "text": [
      "Accuracy: 83.61%\n"
     ]
    },
    {
     "name": "stderr",
     "output_type": "stream",
     "text": [
      "C:\\Users\\Owner\\AppData\\Roaming\\Python\\Python311\\site-packages\\sklearn\\utils\\validation.py:605: FutureWarning: is_sparse is deprecated and will be removed in a future version. Check `isinstance(dtype, pd.SparseDtype)` instead.\n",
      "  if is_sparse(pd_dtype):\n",
      "C:\\Users\\Owner\\AppData\\Roaming\\Python\\Python311\\site-packages\\sklearn\\utils\\validation.py:614: FutureWarning: is_sparse is deprecated and will be removed in a future version. Check `isinstance(dtype, pd.SparseDtype)` instead.\n",
      "  if is_sparse(pd_dtype) or not is_extension_array_dtype(pd_dtype):\n",
      "C:\\Users\\Owner\\AppData\\Roaming\\Python\\Python311\\site-packages\\sklearn\\utils\\validation.py:605: FutureWarning: is_sparse is deprecated and will be removed in a future version. Check `isinstance(dtype, pd.SparseDtype)` instead.\n",
      "  if is_sparse(pd_dtype):\n",
      "C:\\Users\\Owner\\AppData\\Roaming\\Python\\Python311\\site-packages\\sklearn\\utils\\validation.py:614: FutureWarning: is_sparse is deprecated and will be removed in a future version. Check `isinstance(dtype, pd.SparseDtype)` instead.\n",
      "  if is_sparse(pd_dtype) or not is_extension_array_dtype(pd_dtype):\n",
      "C:\\Users\\Owner\\AppData\\Roaming\\Python\\Python311\\site-packages\\sklearn\\utils\\validation.py:605: FutureWarning: is_sparse is deprecated and will be removed in a future version. Check `isinstance(dtype, pd.SparseDtype)` instead.\n",
      "  if is_sparse(pd_dtype):\n",
      "C:\\Users\\Owner\\AppData\\Roaming\\Python\\Python311\\site-packages\\sklearn\\utils\\validation.py:614: FutureWarning: is_sparse is deprecated and will be removed in a future version. Check `isinstance(dtype, pd.SparseDtype)` instead.\n",
      "  if is_sparse(pd_dtype) or not is_extension_array_dtype(pd_dtype):\n"
     ]
    }
   ],
   "source": [
    "accuracy = accuracy_score(y_test, y_pred)\n",
    "print(f'Accuracy: {accuracy * 100:.2f}%')"
   ]
  },
  {
   "cell_type": "code",
   "execution_count": null,
   "id": "402f0d58",
   "metadata": {},
   "outputs": [],
   "source": []
  },
  {
   "cell_type": "code",
   "execution_count": null,
   "id": "3ae942a7",
   "metadata": {},
   "outputs": [],
   "source": []
  },
  {
   "cell_type": "code",
   "execution_count": 27,
   "id": "3085ee48",
   "metadata": {},
   "outputs": [
    {
     "name": "stdout",
     "output_type": "stream",
     "text": [
      "              precision    recall  f1-score   support\n",
      "\n",
      "           0       0.89      0.78      0.83        32\n",
      "           1       0.79      0.90      0.84        29\n",
      "\n",
      "    accuracy                           0.84        61\n",
      "   macro avg       0.84      0.84      0.84        61\n",
      "weighted avg       0.84      0.84      0.84        61\n",
      "\n",
      "[[25  7]\n",
      " [ 3 26]]\n"
     ]
    },
    {
     "name": "stderr",
     "output_type": "stream",
     "text": [
      "C:\\Users\\Owner\\AppData\\Roaming\\Python\\Python311\\site-packages\\sklearn\\utils\\validation.py:605: FutureWarning: is_sparse is deprecated and will be removed in a future version. Check `isinstance(dtype, pd.SparseDtype)` instead.\n",
      "  if is_sparse(pd_dtype):\n",
      "C:\\Users\\Owner\\AppData\\Roaming\\Python\\Python311\\site-packages\\sklearn\\utils\\validation.py:614: FutureWarning: is_sparse is deprecated and will be removed in a future version. Check `isinstance(dtype, pd.SparseDtype)` instead.\n",
      "  if is_sparse(pd_dtype) or not is_extension_array_dtype(pd_dtype):\n",
      "C:\\Users\\Owner\\AppData\\Roaming\\Python\\Python311\\site-packages\\sklearn\\utils\\validation.py:605: FutureWarning: is_sparse is deprecated and will be removed in a future version. Check `isinstance(dtype, pd.SparseDtype)` instead.\n",
      "  if is_sparse(pd_dtype):\n",
      "C:\\Users\\Owner\\AppData\\Roaming\\Python\\Python311\\site-packages\\sklearn\\utils\\validation.py:614: FutureWarning: is_sparse is deprecated and will be removed in a future version. Check `isinstance(dtype, pd.SparseDtype)` instead.\n",
      "  if is_sparse(pd_dtype) or not is_extension_array_dtype(pd_dtype):\n",
      "C:\\Users\\Owner\\AppData\\Roaming\\Python\\Python311\\site-packages\\sklearn\\utils\\validation.py:605: FutureWarning: is_sparse is deprecated and will be removed in a future version. Check `isinstance(dtype, pd.SparseDtype)` instead.\n",
      "  if is_sparse(pd_dtype):\n",
      "C:\\Users\\Owner\\AppData\\Roaming\\Python\\Python311\\site-packages\\sklearn\\utils\\validation.py:614: FutureWarning: is_sparse is deprecated and will be removed in a future version. Check `isinstance(dtype, pd.SparseDtype)` instead.\n",
      "  if is_sparse(pd_dtype) or not is_extension_array_dtype(pd_dtype):\n",
      "C:\\Users\\Owner\\AppData\\Roaming\\Python\\Python311\\site-packages\\sklearn\\utils\\validation.py:605: FutureWarning: is_sparse is deprecated and will be removed in a future version. Check `isinstance(dtype, pd.SparseDtype)` instead.\n",
      "  if is_sparse(pd_dtype):\n",
      "C:\\Users\\Owner\\AppData\\Roaming\\Python\\Python311\\site-packages\\sklearn\\utils\\validation.py:614: FutureWarning: is_sparse is deprecated and will be removed in a future version. Check `isinstance(dtype, pd.SparseDtype)` instead.\n",
      "  if is_sparse(pd_dtype) or not is_extension_array_dtype(pd_dtype):\n",
      "C:\\Users\\Owner\\AppData\\Roaming\\Python\\Python311\\site-packages\\sklearn\\utils\\validation.py:605: FutureWarning: is_sparse is deprecated and will be removed in a future version. Check `isinstance(dtype, pd.SparseDtype)` instead.\n",
      "  if is_sparse(pd_dtype):\n",
      "C:\\Users\\Owner\\AppData\\Roaming\\Python\\Python311\\site-packages\\sklearn\\utils\\validation.py:614: FutureWarning: is_sparse is deprecated and will be removed in a future version. Check `isinstance(dtype, pd.SparseDtype)` instead.\n",
      "  if is_sparse(pd_dtype) or not is_extension_array_dtype(pd_dtype):\n",
      "C:\\Users\\Owner\\AppData\\Roaming\\Python\\Python311\\site-packages\\sklearn\\utils\\validation.py:605: FutureWarning: is_sparse is deprecated and will be removed in a future version. Check `isinstance(dtype, pd.SparseDtype)` instead.\n",
      "  if is_sparse(pd_dtype):\n",
      "C:\\Users\\Owner\\AppData\\Roaming\\Python\\Python311\\site-packages\\sklearn\\utils\\validation.py:614: FutureWarning: is_sparse is deprecated and will be removed in a future version. Check `isinstance(dtype, pd.SparseDtype)` instead.\n",
      "  if is_sparse(pd_dtype) or not is_extension_array_dtype(pd_dtype):\n"
     ]
    }
   ],
   "source": [
    "# Print classification report\n",
    "print(classification_report(y_test, y_pred))\n",
    "\n",
    "# Print confusion matrix\n",
    "print(confusion_matrix(y_test, y_pred))"
   ]
  },
  {
   "cell_type": "code",
   "execution_count": null,
   "id": "3136882e",
   "metadata": {},
   "outputs": [],
   "source": []
  },
  {
   "cell_type": "code",
   "execution_count": null,
   "id": "211d638e",
   "metadata": {},
   "outputs": [],
   "source": []
  },
  {
   "cell_type": "code",
   "execution_count": null,
   "id": "d1fd152d",
   "metadata": {},
   "outputs": [],
   "source": []
  },
  {
   "cell_type": "code",
   "execution_count": null,
   "id": "916081c1",
   "metadata": {},
   "outputs": [],
   "source": []
  }
 ],
 "metadata": {
  "kernelspec": {
   "display_name": "Python 3 (ipykernel)",
   "language": "python",
   "name": "python3"
  },
  "language_info": {
   "codemirror_mode": {
    "name": "ipython",
    "version": 3
   },
   "file_extension": ".py",
   "mimetype": "text/x-python",
   "name": "python",
   "nbconvert_exporter": "python",
   "pygments_lexer": "ipython3",
   "version": "3.11.2"
  }
 },
 "nbformat": 4,
 "nbformat_minor": 5
}
