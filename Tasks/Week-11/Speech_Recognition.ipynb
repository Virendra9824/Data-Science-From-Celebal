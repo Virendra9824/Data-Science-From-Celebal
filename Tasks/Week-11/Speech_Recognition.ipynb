{
 "cells": [
  {
   "cell_type": "code",
   "execution_count": null,
   "id": "a189a6b2",
   "metadata": {},
   "outputs": [],
   "source": [
    "#Speech Recognition:-\n",
    "'''\n",
    "In computer vision, speech recognition involves converting spoken language into text, enhancing applications like video captioning and voice-controlled interfaces. It enables multimodal interactions by combining audio and visual data for more comprehensive analysis and user engagement.\n",
    "'''"
   ]
  },
  {
   "cell_type": "code",
   "execution_count": null,
   "id": "96d9f07c",
   "metadata": {},
   "outputs": [],
   "source": [
    "#Speech Translation:-\n",
    "'''\n",
    "Speech translation converts spoken language from one language into text or speech in another language, enabling real-time multilingual communication and enhancing video content localization. It allows for seamless interaction across language barriers by integrating audio and visual data.\n",
    "'''"
   ]
  },
  {
   "cell_type": "code",
   "execution_count": null,
   "id": "da1886b1",
   "metadata": {},
   "outputs": [],
   "source": []
  },
  {
   "cell_type": "code",
   "execution_count": 5,
   "id": "60da7f9a-dbfb-4a06-81d3-d35d89c512e3",
   "metadata": {},
   "outputs": [
    {
     "name": "stdout",
     "output_type": "stream",
     "text": [
      "Speak Now...\n",
      "You said: my name is Virendra Kumar\n"
     ]
    }
   ],
   "source": [
    "import speech_recognition as sr\n",
    "\n",
    "# Initialize the recognizer\n",
    "recognizer = sr.Recognizer()\n",
    "\n",
    "# Use the microphone as the audio source\n",
    "with sr.Microphone() as source:\n",
    "    print(\"Speak Now...\")\n",
    "\n",
    "    # Capture the audio\n",
    "    audio = recognizer.listen(source)\n",
    "\n",
    "    try:\n",
    "        # Recognize speech using Google Web Speech API\n",
    "        text = recognizer.recognize_google(audio)\n",
    "        print(\"You said: \" + text)\n",
    "    except sr.UnknownValueError:\n",
    "        print(\"Google Speech Recognition could not understand the audio\")\n",
    "    except sr.RequestError as e:\n",
    "        print(f\"Could not request results from Google Speech Recognition; {e}\")\n"
   ]
  },
  {
   "cell_type": "code",
   "execution_count": null,
   "id": "d5c48bfa-2f1e-4019-b040-969593178f9f",
   "metadata": {},
   "outputs": [],
   "source": []
  }
 ],
 "metadata": {
  "kernelspec": {
   "display_name": "Python 3 (ipykernel)",
   "language": "python",
   "name": "python3"
  },
  "language_info": {
   "codemirror_mode": {
    "name": "ipython",
    "version": 3
   },
   "file_extension": ".py",
   "mimetype": "text/x-python",
   "name": "python",
   "nbconvert_exporter": "python",
   "pygments_lexer": "ipython3",
   "version": "3.11.2"
  }
 },
 "nbformat": 4,
 "nbformat_minor": 5
}
