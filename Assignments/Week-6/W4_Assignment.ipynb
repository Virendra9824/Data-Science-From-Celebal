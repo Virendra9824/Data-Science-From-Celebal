{
 "cells": [
  {
   "cell_type": "markdown",
   "id": "38dc0e93",
   "metadata": {},
   "source": [
    "### Bayes' Theorem Implementation"
   ]
  },
  {
   "cell_type": "code",
   "execution_count": 5,
   "id": "a348eff0",
   "metadata": {},
   "outputs": [
    {
     "name": "stdout",
     "output_type": "stream",
     "text": [
      "Posterior probability of the disease given the symptom: 0.08\n"
     ]
    }
   ],
   "source": [
    "def bayes_theorem(p_disease, p_symptom_given_disease, p_symptom):\n",
    "  p_disease_given_symptom = (p_disease * p_symptom_given_disease) / p_symptom\n",
    "  return p_disease_given_symptom\n",
    "\n",
    "p_disease = 0.01  \n",
    "p_symptom_given_disease = 0.8  \n",
    "p_symptom = 0.1 \n",
    "\n",
    "posterior_probability = bayes_theorem(p_disease, p_symptom_given_disease, p_symptom)\n",
    "print(\"Posterior probability of the disease given the symptom:\", posterior_probability)\n"
   ]
  },
  {
   "cell_type": "code",
   "execution_count": null,
   "id": "546eb2a7",
   "metadata": {},
   "outputs": [],
   "source": []
  },
  {
   "cell_type": "code",
   "execution_count": null,
   "id": "4a3f8438",
   "metadata": {},
   "outputs": [],
   "source": []
  },
  {
   "cell_type": "markdown",
   "id": "04535cea",
   "metadata": {},
   "source": [
    "### Eigenvalues and Eigenvectors of a Matrix"
   ]
  },
  {
   "cell_type": "code",
   "execution_count": 2,
   "id": "1cbfba73",
   "metadata": {},
   "outputs": [
    {
     "name": "stdout",
     "output_type": "stream",
     "text": [
      "Eigenvalues: [5. 2.]\n",
      "Eigenvectors:\n",
      " [[ 0.70710678 -0.4472136 ]\n",
      " [ 0.70710678  0.89442719]]\n"
     ]
    }
   ],
   "source": [
    "import numpy as np\n",
    "\n",
    "A = np.array([[4, 1], [2, 3]])\n",
    "\n",
    "eigenvalues, eigenvectors = np.linalg.eig(A)\n",
    "\n",
    "print(\"Eigenvalues:\", eigenvalues)\n",
    "print(\"Eigenvectors:\\n\", eigenvectors)\n"
   ]
  },
  {
   "cell_type": "code",
   "execution_count": null,
   "id": "8e92173d",
   "metadata": {},
   "outputs": [],
   "source": []
  },
  {
   "cell_type": "code",
   "execution_count": null,
   "id": "3fc7abb7",
   "metadata": {},
   "outputs": [],
   "source": []
  },
  {
   "cell_type": "markdown",
   "id": "434a0c22",
   "metadata": {},
   "source": [
    "### Determinant and Inverse of a 3x3 Matrix"
   ]
  },
  {
   "cell_type": "code",
   "execution_count": 3,
   "id": "eedbd982",
   "metadata": {},
   "outputs": [
    {
     "name": "stdout",
     "output_type": "stream",
     "text": [
      "Determinant of B: 0.9999999999999964\n",
      "Inverse of B:\n",
      " [[-24.  18.   5.]\n",
      " [ 20. -15.  -4.]\n",
      " [ -5.   4.   1.]]\n"
     ]
    }
   ],
   "source": [
    "B = np.array([[1, 2, 3], [0, 1, 4], [5, 6, 0]])\n",
    "\n",
    "\n",
    "det_B = np.linalg.det(B)\n",
    "\n",
    "if det_B != 0:\n",
    "    inv_B = np.linalg.inv(B)\n",
    "    print(\"Determinant of B:\", det_B)\n",
    "    print(\"Inverse of B:\\n\", inv_B)\n",
    "else:\n",
    "    print(\"Matrix B is singular and does not have an inverse.\")\n"
   ]
  },
  {
   "cell_type": "code",
   "execution_count": null,
   "id": "2773f08b",
   "metadata": {},
   "outputs": [],
   "source": []
  },
  {
   "cell_type": "code",
   "execution_count": null,
   "id": "0fbf22e3",
   "metadata": {},
   "outputs": [],
   "source": []
  },
  {
   "cell_type": "markdown",
   "id": "2898651f",
   "metadata": {},
   "source": [
    "### Properties of the Normal Distribution"
   ]
  },
  {
   "cell_type": "code",
   "execution_count": 4,
   "id": "663f7aeb",
   "metadata": {},
   "outputs": [
    {
     "data": {
      "text/plain": [
       "'\\nSymmetry: The normal distribution is symmetric about the mean.\\n\\nMean, Median, and Mode: All are equal in a normal distribution.\\n\\n68-95-99.7 Rule: Approximately 68% of the data falls within one standard deviation of the mean, 95% within two, and 99.7% within three.\\n\\nAsymptotic: The tails of the distribution approach the horizontal axis but never touch it.\\n'"
      ]
     },
     "execution_count": 4,
     "metadata": {},
     "output_type": "execute_result"
    }
   ],
   "source": [
    "'''\n",
    "Symmetry: The normal distribution is symmetric about the mean.\n",
    "\n",
    "Mean, Median, and Mode: All are equal in a normal distribution.\n",
    "\n",
    "68-95-99.7 Rule: Approximately 68% of the data falls within one standard deviation of the mean, 95% within two, and 99.7% within three.\n",
    "\n",
    "Asymptotic: The tails of the distribution approach the horizontal axis but never touch it.\n",
    "'''"
   ]
  },
  {
   "cell_type": "code",
   "execution_count": null,
   "id": "74748789",
   "metadata": {},
   "outputs": [],
   "source": []
  },
  {
   "cell_type": "markdown",
   "id": "2e1c6353",
   "metadata": {},
   "source": [
    "### Applications of the Normal Distribution"
   ]
  },
  {
   "cell_type": "code",
   "execution_count": null,
   "id": "edaf212f",
   "metadata": {},
   "outputs": [],
   "source": [
    "'''\n",
    "Natural and Social Sciences: Modeling phenomena like heights, test scores, etc.\n",
    "\n",
    "Finance: Modeling stock returns.\n",
    "\n",
    "Quality Control: Assessing variation in manufacturing.\n",
    "'''"
   ]
  }
 ],
 "metadata": {
  "kernelspec": {
   "display_name": "Python 3 (ipykernel)",
   "language": "python",
   "name": "python3"
  },
  "language_info": {
   "codemirror_mode": {
    "name": "ipython",
    "version": 3
   },
   "file_extension": ".py",
   "mimetype": "text/x-python",
   "name": "python",
   "nbconvert_exporter": "python",
   "pygments_lexer": "ipython3",
   "version": "3.11.2"
  }
 },
 "nbformat": 4,
 "nbformat_minor": 5
}
